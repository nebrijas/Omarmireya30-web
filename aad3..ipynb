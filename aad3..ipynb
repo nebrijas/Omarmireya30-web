{
 "cells": [
  {
   "cell_type": "markdown",
   "id": "55b92f44",
   "metadata": {},
   "source": [
    "# AAD3"
   ]
  },
  {
   "cell_type": "markdown",
   "id": "d6f9da27",
   "metadata": {},
   "source": [
    "Esta es la actividad dirigida 3 que consiste en hacer un ejercicio de programación literaria aprovechando el código que hemos usado en Programación con Python donde realizamos web scrapping. Segidamente muestro el código fuente\n"
   ]
  },
  {
   "cell_type": "markdown",
   "id": "9364153e",
   "metadata": {},
   "source": [
    "## Código fuente "
   ]
  },
  {
   "cell_type": "markdown",
   "id": "b30e7e7a",
   "metadata": {},
   "source": [
    "```\n",
    "import requests\n",
    "import time\n",
    "import csv\n",
    "import re\n",
    "from bs4 import BeautifulSoup\n",
    "import os\n",
    "import pandas as pd\n",
    "from termcolor import colored\n",
    " \n",
    "resultados = []\n",
    " \n",
    "req = requests.get(\"https://resultados.elpais.com\")\n",
    "# Si el estatus code no es 200 no se puede leer la página\n",
    "if (req.status_code != 200):\n",
    " raise Exception(\"No se puede hacer Web Scraping en\"+ URL)\n",
    "soup = BeautifulSoup(req.text, 'html.parser')\n",
    " \n",
    "tags = soup.findAll(\"h2\")\n",
    " \n",
    "for h2 in tags:\n",
    "    print(h2.text)\n",
    "    resultados.append(h2.text)\n",
    " \n",
    "req2 = requests.get(\"https://elpais.com/internacional\")\n",
    "# Si el estatus code no es 200 no se puede leer la página\n",
    "if (req.status_code != 200):\n",
    " raise Exception(\"No se puede hacer Web Scraping en\"+ URL)\n",
    "soup2 = BeautifulSoup(req2.text, 'html.parser')\n",
    " \n",
    "tags = soup2.findAll(\"h2\")\n",
    " \n",
    "for h2 in tags:\n",
    "    print(h2.text)\n",
    "    resultados.append(h2.text)\n",
    " \n",
    "req3 = requests.get(\"https://elpais.com/opinion\")\n",
    "# Si el estatus code no es 200 no se puede leer la página\n",
    "if (req.status_code != 200):\n",
    " raise Exception(\"No se puede hacer Web Scraping en\"+ URL)\n",
    "soup3 = BeautifulSoup(req3.text, 'html.parser')\n",
    " \n",
    "tags = soup3.findAll(\"h2\")\n",
    " \n",
    "for h2 in tags:\n",
    "    print(h2.text)\n",
    "    resultados.append(h2.text)\n",
    " \n",
    "req4 = requests.get(\"https://elpais.com/espana/\")\n",
    "# Si el estatus code no es 200 no se puede leer la página\n",
    "if (req.status_code != 200):\n",
    " raise Exception(\"No se puede hacer Web Scraping en\"+ URL)\n",
    "soup4 = BeautifulSoup(req4.text, 'html.parser')\n",
    " \n",
    "tags = soup4.findAll(\"h2\")\n",
    " \n",
    "for h2 in tags:\n",
    "    print(h2.text)\n",
    "    resultados.append(h2.text)\n",
    " \n",
    "req5 = requests.get(\"https://elpais.com/economia/\")\n",
    "# Si el estatus code no es 200 no se puede leer la página\n",
    "if (req.status_code != 200):\n",
    " raise Exception(\"No se puede hacer Web Scraping en\"+ URL)\n",
    "soup5 = BeautifulSoup(req5.text, 'html.parser')\n",
    " \n",
    "tags = soup5.findAll(\"h2\")\n",
    " \n",
    "for h2 in tags:\n",
    "    print(h2.text)\n",
    "    resultados.append(h2.text)\n",
    " \n",
    "req6 = requests.get(\"https://elpais.com/sociedad/\")\n",
    "# Si el estatus code no es 200 no se puede leer la página\n",
    "if (req.status_code != 200):\n",
    " raise Exception(\"No se puede hacer Web Scraping en\"+ URL)\n",
    "soup6 = BeautifulSoup(req6.text, 'html.parser')\n",
    " \n",
    "tags = soup6.findAll(\"h2\")\n",
    " \n",
    "for h2 in tags:\n",
    "    print(h2.text)\n",
    "    resultados.append(h2.text)\n",
    " \n",
    "req7 = requests.get(\"https://elpais.com/educacion/\")\n",
    "# Si el estatus code no es 200 no se puede leer la página\n",
    "if (req.status_code != 200):\n",
    " raise Exception(\"No se puede hacer Web Scraping en\"+ URL)\n",
    "soup7 = BeautifulSoup(req7.text, 'html.parser')\n",
    " \n",
    "tags = soup7.findAll(\"h2\")\n",
    " \n",
    "for h2 in tags:\n",
    "    print(h2.text)\n",
    "    resultados.append(h2.text)\n",
    " \n",
    "req8 = requests.get(\"https://elpais.com/clima-y-medio-ambiente/\")\n",
    "# Si el estatus code no es 200 no se puede leer la página\n",
    "if (req.status_code != 200):\n",
    " raise Exception(\"No se puede hacer Web Scraping en\"+ URL)\n",
    "soup8 = BeautifulSoup(req8.text, 'html.parser')\n",
    " \n",
    "tags = soup8.findAll(\"h2\")\n",
    " \n",
    "for h2 in tags:\n",
    "    print(h2.text)\n",
    "    resultados.append(h2.text)\n",
    " \n",
    "req9 = requests.get(\"https://elpais.com/ciencia/\")\n",
    "# Si el estatus code no es 200 no se puede leer la página\n",
    "if (req.status_code != 200):\n",
    " raise Exception(\"No se puede hacer Web Scraping en\"+ URL)\n",
    "soup9 = BeautifulSoup(req9.text, 'html.parser')\n",
    " \n",
    "tags = soup9.findAll(\"h2\")\n",
    " \n",
    "for h2 in tags:\n",
    "    print(h2.text)\n",
    "    resultados.append(h2.text)\n",
    " \n",
    "req10 = requests.get(\"https://elpais.com/cultura/\")\n",
    "# Si el estatus code no es 200 no se puede leer la página\n",
    "if (req.status_code != 200):\n",
    " raise Exception(\"No se puede hacer Web Scraping en\"+ URL)\n",
    "soup10 = BeautifulSoup(req10.text, 'html.parser')\n",
    " \n",
    "tags = soup10.findAll(\"h2\")\n",
    " \n",
    "for h2 in tags:\n",
    "    print(h2.text)\n",
    "    resultados.append(h2.text)\n",
    " \n",
    "req11 = requests.get(\"https://elpais.com/babelia/\")\n",
    "# Si el estatus code no es 200 no se puede leer la página\n",
    "if (req.status_code != 200):\n",
    " raise Exception(\"No se puede hacer Web Scraping en\"+ URL)\n",
    "soup11 = BeautifulSoup(req11.text, 'html.parser')\n",
    " \n",
    "tags = soup11.findAll(\"h2\")\n",
    " \n",
    "for h2 in tags:\n",
    "    print(h2.text)\n",
    "    resultados.append(h2.text)\n",
    " \n",
    "req12 = requests.get(\"https://elpais.com/deportes/\")\n",
    "# Si el estatus code no es 200 no se puede leer la página\n",
    "if (req.status_code != 200):\n",
    " raise Exception(\"No se puede hacer Web Scraping en\"+ URL)\n",
    "soup12 = BeautifulSoup(req12.text, 'html.parser')\n",
    " \n",
    "tags = soup12.findAll(\"h2\")\n",
    " \n",
    "for h2 in tags:\n",
    "    print(h2.text)\n",
    "    resultados.append(h2.text)\n",
    " \n",
    "req13 = requests.get(\"https://elpais.com/tecnologia/\")\n",
    "# Si el estatus code no es 200 no se puede leer la página\n",
    "if (req.status_code != 200):\n",
    " raise Exception(\"No se puede hacer Web Scraping en\"+ URL)\n",
    "soup13 = BeautifulSoup(req13.text, 'html.parser')\n",
    " \n",
    "tags = soup13.findAll(\"h2\")\n",
    " \n",
    "for h2 in tags:\n",
    "    print(h2.text)\n",
    "    resultados.append(h2.text)\n",
    " \n",
    "req14 = requests.get(\"https://elpais.com/tecnologia/\")\n",
    "# Si el estatus code no es 200 no se puede leer la página\n",
    "if (req.status_code != 200):\n",
    " raise Exception(\"No se puede hacer Web Scraping en\"+ URL)\n",
    "soup14 = BeautifulSoup(req14.text, 'html.parser')\n",
    " \n",
    "tags = soup14.findAll(\"h2\")\n",
    " \n",
    "for h2 in tags:\n",
    "    print(h2.text)\n",
    "    resultados.append(h2.text)\n",
    " \n",
    "req15 = requests.get(\"https://elpais.com/gente/\")\n",
    "# Si el estatus code no es 200 no se puede leer la página\n",
    "if (req.status_code != 200):\n",
    " raise Exception(\"No se puede hacer Web Scraping en\"+ URL)\n",
    "soup15 = BeautifulSoup(req15.text, 'html.parser')\n",
    " \n",
    "tags = soup15.findAll(\"h2\")\n",
    " \n",
    "for h2 in tags:\n",
    "    print(h2.text)\n",
    "    resultados.append(h2.text)\n",
    " \n",
    "req16 = requests.get(\"https://elpais.com/television/\")\n",
    "# Si el estatus code no es 200 no se puede leer la página\n",
    "if (req.status_code != 200):\n",
    " raise Exception(\"No se puede hacer Web Scraping en\"+ URL)\n",
    "soup16 = BeautifulSoup(req16.text, 'html.parser')\n",
    " \n",
    "tags = soup16.findAll(\"h2\")\n",
    " \n",
    "for h2 in tags:\n",
    "    print(h2.text)\n",
    "    resultados.append(h2.text)\n",
    " \n",
    "req17 = requests.get(\"https://elpais.com/eps/\")\n",
    "# Si el estatus code no es 200 no se puede leer la página\n",
    "if (req.status_code != 200):\n",
    " raise Exception(\"No se puede hacer Web Scraping en\"+ URL)\n",
    "soup17 = BeautifulSoup(req17.text, 'html.parser')\n",
    " \n",
    "tags = soup17.findAll(\"h2\")\n",
    " \n",
    "for h2 in tags:\n",
    "    print(h2.text)\n",
    "    resultados.append(h2.text)\n",
    " \n",
    " \n",
    "os.system(\"clear\")\n",
    " \n",
    "print(colored(\"A continuación se muestran los titulares de las páginas principales del diario El País que contienen las siguientes palabras:\", 'blue', attrs=['bold']))\n",
    "print(colored(\"Feminismo\", 'green', attrs=['bold']))\n",
    " \n",
    "str_match = [s for s in resultados if \"feminismo\" in s]\n",
    "print(\"\\n\".join(str_match))\n",
    " \n",
    "print(colored(\"Igualdad\", 'green', attrs=['bold']))\n",
    " \n",
    "str_match = [s for s in resultados if \"igualdad\" in s]\n",
    "print(\"\\n\".join(str_match))\n",
    " \n",
    "print(colored(\"Mujeres\", 'green', attrs=['bold']))\n",
    " \n",
    "str_match = [s for s in resultados if \"mujeres\" in s]\n",
    "print(\"\\n\".join(str_match))\n",
    " \n",
    "print(colored(\"Mujer\", 'green', attrs=['bold']))\n",
    " \n",
    "str_match = [s for s in resultados if \"mujer\" in s]\n",
    "print(\"\\n\".join(str_match))\n",
    " \n",
    "print(colored(\"Brecha salarial\", 'green', attrs=['bold']))\n",
    " \n",
    "str_match = [s for s in resultados if \"brecha salarial\" in s]\n",
    "print(\"\\n\".join(str_match))\n",
    " \n",
    "print(colored(\"Machismo\", 'green', attrs=['bold']))\n",
    " \n",
    "str_match = [s for s in resultados if \"machismo\" in s]\n",
    "print(\"\\n\".join(str_match))\n",
    " \n",
    "print(colored(\"Violencia\", 'green', attrs=['bold']))\n",
    " \n",
    "str_match = [s for s in resultados if \"violencia\" in s]\n",
    "print(\"\\n\".join(str_match))\n",
    " \n",
    "print(colored(\"Maltrato\", 'green', attrs=['bold']))\n",
    " \n",
    "str_match = [s for s in resultados if \"maltrato\" in s]\n",
    "print(\"\\n\".join(str_match))\n",
    " \n",
    "print(colored(\"Homicidio\", 'green', attrs=['bold']))\n",
    " \n",
    "str_match = [s for s in resultados if \"homicidio\" in s]\n",
    "print(\"\\n\".join(str_match))\n",
    " \n",
    "print(colored(\"Género\", 'green', attrs=['bold']))\n",
    " \n",
    "str_match = [s for s in resultados if \"género\" in s]\n",
    "print(\"\\n\".join(str_match))\n",
    " \n",
    "print(colored(\"Asesinato\", 'green', attrs=['bold']))\n",
    " \n",
    "str_match = [s for s in resultados if \"asesinato\" in s]\n",
    "print(\"\\n\".join(str_match))\n",
    " \n",
    "print(colored(\"Sexo\", 'green', attrs=['bold']))\n",
    " \n",
    "str_match = [s for s in resultados if \"sexo\" in s]\n",
    "print(\"\\n\".join(str_match))\n",
    "```"
   ]
  },
  {
   "cell_type": "markdown",
   "id": "85d27f0a",
   "metadata": {},
   "source": [
    "## Web Scrapping con Phyton"
   ]
  },
  {
   "cell_type": "markdown",
   "id": "26fca5c7",
   "metadata": {},
   "source": [
    "Pogramación literaria "
   ]
  },
  {
   "cell_type": "markdown",
   "id": "b107f127",
   "metadata": {},
   "source": [
    "## Importamos las librerías"
   ]
  },
  {
   "cell_type": "markdown",
   "id": "d7c226f2",
   "metadata": {},
   "source": [
    "### Modulos del sistema"
   ]
  },
  {
   "cell_type": "markdown",
   "id": "00055849",
   "metadata": {},
   "source": [
    "1. time:[Es un módulo que proporciona varias funciones relacionadas con el tiempo](https://docs.python.org/es/3/library/time.html)\n",
    "2. csv: [Los valores separados por coma son el formato más común de importación y exportación de hojas de cálculo y bases de datos](https://docs.python.org/es/3/library/csv.html)\n",
    "3. re: [Este módulo proporciona operaciones de coincidencia de expresiones regulares similares a las encontradas en Perl.](https://docs.python.org/es/3/library/re.html)\n",
    "4. os: [Este módulo provee una manera versátil de usar funcionalidades dependientes del sistema operativo](https://docs.python.org/es/3.10/library/os.html)\n"
   ]
  },
  {
   "cell_type": "markdown",
   "id": "a7b9ad2a",
   "metadata": {},
   "source": [
    "## Importar Librerías "
   ]
  },
  {
   "cell_type": "markdown",
   "id": "b0eba718",
   "metadata": {},
   "source": [
    "Librerías \n",
    "\n",
    "Aquí voy a importar librerías"
   ]
  },
  {
   "cell_type": "markdown",
   "id": "a1088eee",
   "metadata": {},
   "source": [
    "1. request:[Libreria de Phyton](https://pypi.org/project/requests/)\n",
    "2. pandas: [Potentes estructuras de datos para análisis de datos, series temporales y estadísticas](https://pypi.org/project/pandas/)\n",
    "3. bs4: [Beautiful Soup es una biblioteca que facilita extraer información de páginas web](https://pypi.org/project/beautifulsoup4/)\n",
    "4. termecolor:[Lo que hace el módulo termcolor es que le permite imprimir texto en color en el shell.](https://replit.com/talk/learn/How-to-Use-Termcolor-In-Python/24684)"
   ]
  },
  {
   "cell_type": "markdown",
   "id": "0d3f67d0",
   "metadata": {},
   "source": [
    "## Instalamos librerías "
   ]
  },
  {
   "cell_type": "markdown",
   "id": "bea5e2db",
   "metadata": {},
   "source": [
    "Las librerías que vienen con Phyton no necesitan ser instaladas, pero las otras sí"
   ]
  },
  {
   "cell_type": "code",
   "execution_count": 2,
   "id": "f20c33d0",
   "metadata": {},
   "outputs": [
    {
     "name": "stdout",
     "output_type": "stream",
     "text": [
      "Requirement already satisfied: requests in c:\\users\\wow\\anaconda3\\lib\\site-packages (2.27.1)Note: you may need to restart the kernel to use updated packages.\n",
      "\n",
      "Requirement already satisfied: bs4 in c:\\users\\wow\\anaconda3\\lib\\site-packages (0.0.1)\n",
      "Requirement already satisfied: pandas in c:\\users\\wow\\anaconda3\\lib\\site-packages (1.4.2)\n",
      "Requirement already satisfied: termcolor in c:\\users\\wow\\anaconda3\\lib\\site-packages (1.1.0)\n",
      "Requirement already satisfied: charset-normalizer~=2.0.0 in c:\\users\\wow\\anaconda3\\lib\\site-packages (from requests) (2.0.4)\n",
      "Requirement already satisfied: urllib3<1.27,>=1.21.1 in c:\\users\\wow\\anaconda3\\lib\\site-packages (from requests) (1.26.9)\n",
      "Requirement already satisfied: certifi>=2017.4.17 in c:\\users\\wow\\anaconda3\\lib\\site-packages (from requests) (2021.10.8)\n",
      "Requirement already satisfied: idna<4,>=2.5 in c:\\users\\wow\\anaconda3\\lib\\site-packages (from requests) (3.3)\n",
      "Requirement already satisfied: beautifulsoup4 in c:\\users\\wow\\anaconda3\\lib\\site-packages (from bs4) (4.11.1)\n",
      "Requirement already satisfied: python-dateutil>=2.8.1 in c:\\users\\wow\\anaconda3\\lib\\site-packages (from pandas) (2.8.2)\n",
      "Requirement already satisfied: pytz>=2020.1 in c:\\users\\wow\\anaconda3\\lib\\site-packages (from pandas) (2021.3)\n",
      "Requirement already satisfied: numpy>=1.18.5 in c:\\users\\wow\\anaconda3\\lib\\site-packages (from pandas) (1.21.5)\n",
      "Requirement already satisfied: six>=1.5 in c:\\users\\wow\\anaconda3\\lib\\site-packages (from python-dateutil>=2.8.1->pandas) (1.16.0)\n",
      "Requirement already satisfied: soupsieve>1.2 in c:\\users\\wow\\anaconda3\\lib\\site-packages (from beautifulsoup4->bs4) (2.3.1)\n"
     ]
    }
   ],
   "source": [
    "pip install requests bs4 pandas termcolor"
   ]
  },
  {
   "cell_type": "markdown",
   "id": "b0d30177",
   "metadata": {},
   "source": [
    "### Importamos las librerías"
   ]
  },
  {
   "cell_type": "markdown",
   "id": "7c01da69",
   "metadata": {},
   "source": [
    "Empleamos tres módulos diferentes para importar libreria\n",
    "\n",
    "1. Algunas librerías son importadas directamente. Como el caso de requests.\n",
    "2. Otras, en cambio, se importan cambiándoles el nombre que se va a emplear para invocarlas. Este es el caso de pandas.\n",
    "3. Por último, están las librerías de las que importamos determinados componentes. En este caso tenemos bs4 y termcolor.\n",
    "\n"
   ]
  },
  {
   "cell_type": "code",
   "execution_count": 3,
   "id": "2fe82564",
   "metadata": {},
   "outputs": [],
   "source": [
    "import requests\n",
    "import time\n",
    "import csv\n",
    "import re\n",
    "from bs4 import BeautifulSoup\n",
    "import os\n",
    "import pandas as pd\n",
    "from termcolor import colored"
   ]
  },
  {
   "cell_type": "markdown",
   "id": "cbbd5502",
   "metadata": {},
   "source": [
    "# Objetos Variables"
   ]
  },
  {
   "cell_type": "markdown",
   "id": "d35d979d",
   "metadata": {},
   "source": [
    "Crearemos una serie de objetos o variables.\n"
   ]
  },
  {
   "cell_type": "markdown",
   "id": "84f6dffe",
   "metadata": {},
   "source": [
    "### Resultados"
   ]
  },
  {
   "cell_type": "markdown",
   "id": "8fe33253",
   "metadata": {},
   "source": [
    "Creamos un objeto vacío denominado resultados para agregar los resultados del scrapping"
   ]
  },
  {
   "cell_type": "code",
   "execution_count": 4,
   "id": "05b1052e",
   "metadata": {},
   "outputs": [],
   "source": [
    "resultados =[]"
   ]
  },
  {
   "cell_type": "markdown",
   "id": "e0d1b1a2",
   "metadata": {},
   "source": [
    "Si pasamos la función type() podemos observar que este objeto es de tipo lista de Python. Este tipo de elemento es básico y fundamental para organizar información/datos."
   ]
  },
  {
   "cell_type": "code",
   "execution_count": 5,
   "id": "60d97e4c",
   "metadata": {},
   "outputs": [
    {
     "data": {
      "text/plain": [
       "list"
      ]
     },
     "execution_count": 5,
     "metadata": {},
     "output_type": "execute_result"
    }
   ],
   "source": [
    "type(resultados)"
   ]
  },
  {
   "cell_type": "markdown",
   "id": "682020d3",
   "metadata": {},
   "source": [
    "## Solicitud de acceso a datos en un sitio en línea"
   ]
  },
  {
   "cell_type": "markdown",
   "id": "73f78982",
   "metadata": {},
   "source": [
    "Se añade una variable con la que se hace uso de la solicitud req=requests.get(\"https://resultados.elpais.com\") para recoger la información de esa URL."
   ]
  },
  {
   "cell_type": "code",
   "execution_count": 6,
   "id": "22ad2db3",
   "metadata": {},
   "outputs": [],
   "source": [
    "req = requests.get(\"https://resultados.elpais.com\")"
   ]
  },
  {
   "cell_type": "markdown",
   "id": "ebf4ca14",
   "metadata": {},
   "source": [
    "Si pasamos la función type() podemos observar que este objeto es de tipo Respuesta de modelo requests."
   ]
  },
  {
   "cell_type": "code",
   "execution_count": 7,
   "id": "d01277a7",
   "metadata": {},
   "outputs": [
    {
     "data": {
      "text/plain": [
       "requests.models.Response"
      ]
     },
     "execution_count": 7,
     "metadata": {},
     "output_type": "execute_result"
    }
   ],
   "source": [
    "type(req)"
   ]
  },
  {
   "cell_type": "markdown",
   "id": "1532cec4",
   "metadata": {},
   "source": [
    "Como está comentado en el propio código, se emplea un condicional if para que cuando el estatus no sea 200 el valor de vuelta no pueda leerse. Este valor 200 significa que la solicitud fue exitosa y el servidor respondió con los datos solicitados. En caso de que no se encuentre un resultado como el indicado se mostrará el mensaje No se puede hacer Web Scrapping en seguido de la URL errónea."
   ]
  },
  {
   "cell_type": "code",
   "execution_count": 8,
   "id": "7a8d9895",
   "metadata": {},
   "outputs": [],
   "source": [
    "# Si el estatus no es 200 no se puede leer la página\n",
    "if (req.status_code != 200):\n",
    "    raise Exception(\"No se puede hacer Web Scraping en\"+ URL)"
   ]
  },
  {
   "cell_type": "markdown",
   "id": "5dfb6869",
   "metadata": {},
   "source": [
    "Si pasamos la función type() podemos observar que el objeto req.status_code es de tipo entero, por lo que el resultado será numérico.\n"
   ]
  },
  {
   "cell_type": "code",
   "execution_count": 9,
   "id": "9f701079",
   "metadata": {},
   "outputs": [
    {
     "data": {
      "text/plain": [
       "int"
      ]
     },
     "execution_count": 9,
     "metadata": {},
     "output_type": "execute_result"
    }
   ],
   "source": [
    "type(req.status_code)"
   ]
  },
  {
   "cell_type": "markdown",
   "id": "e1d2d6d5",
   "metadata": {},
   "source": [
    "## BeautifulSoup"
   ]
  },
  {
   "cell_type": "markdown",
   "id": "8a989547",
   "metadata": {},
   "source": [
    "Se añade otra variable para aplicar Web Scrapping.\n"
   ]
  },
  {
   "cell_type": "code",
   "execution_count": 10,
   "id": "425cafef",
   "metadata": {},
   "outputs": [],
   "source": [
    "soup = BeautifulSoup(req.text,'html.parser')"
   ]
  },
  {
   "cell_type": "markdown",
   "id": "33d0fb97",
   "metadata": {},
   "source": [
    "Si pasamos la función type() podemos observar que este objeto es de tipo bs4."
   ]
  },
  {
   "cell_type": "code",
   "execution_count": 11,
   "id": "2587503b",
   "metadata": {},
   "outputs": [
    {
     "data": {
      "text/plain": [
       "bs4.BeautifulSoup"
      ]
     },
     "execution_count": 11,
     "metadata": {},
     "output_type": "execute_result"
    }
   ],
   "source": [
    "type(soup)"
   ]
  },
  {
   "cell_type": "raw",
   "id": "2c13b407",
   "metadata": {},
   "source": [
    "También se añade la variable que sirve para encontrar todas las etiquetas <h2> dentro de la página anteriormente especificada."
   ]
  },
  {
   "cell_type": "code",
   "execution_count": 12,
   "id": "e0f90ce9",
   "metadata": {},
   "outputs": [],
   "source": [
    "tags = soup.findAll(\"h2\")"
   ]
  },
  {
   "cell_type": "markdown",
   "id": "3c176e52",
   "metadata": {},
   "source": [
    "Si pasamos la función type() podemos observar que el objeto tags es de tipo Resultado del set de elementos bs4."
   ]
  },
  {
   "cell_type": "code",
   "execution_count": 13,
   "id": "833fddcf",
   "metadata": {},
   "outputs": [
    {
     "data": {
      "text/plain": [
       "bs4.element.ResultSet"
      ]
     },
     "execution_count": 13,
     "metadata": {},
     "output_type": "execute_result"
    }
   ],
   "source": [
    "type(tags)"
   ]
  },
  {
   "cell_type": "markdown",
   "id": "35c6433b",
   "metadata": {},
   "source": [
    "Se indica a través de un for, que se recorran todos los h2 dentro de la variable anterior y se imprima el texto dentro de la etiqueta. Posteriormente con resultados.append(h2.text) se añaden todos los textos dentro de las etiquetas a la lista inicial resultados."
   ]
  },
  {
   "cell_type": "code",
   "execution_count": 14,
   "id": "c059cf52",
   "metadata": {},
   "outputs": [
    {
     "name": "stdout",
     "output_type": "stream",
     "text": [
      "El Tribunal Supremo deroga el derecho al aborto en Estados Unidos\n",
      "Las claves del aborto en EE UU tras la decisión del Supremo\n",
      "Biden pide al Congreso recuperar el derecho al aborto como ley federal\n",
      "Misuri y Texas, los primeros Estados que prohíben totalmente el aborto en Estados Unidos\n",
      "Video | Visita a una clínica en donde ya es delito practicar abortos\n",
      "El Supremo destruye un derecho fundamental de las mujeres\n",
      "La sentencia sobre el aborto cae como una maza en la clínica de Misisipi que ha perdido el caso\n",
      "Así se puede ver la alineación de cinco planetas, justo antes de cada amanecer\n",
      "El oro no es “del Rin”, sino del crimen\n",
      "Jesucristo armado en Brasil\n",
      "El mejor sexo de tu vida\n",
      "A medias\n",
      "18 migrantes muertos y 63 heridos en una avalancha al intentar entrar en España\n",
      "El apretón de manos de dos presidentes que se dan la espalda \n",
      "El Gobierno de Colombia confirma tres casos de viruela del mono\n",
      "Cuba condena a cinco y nueve años de cárcel a los principales opositores del Movimiento San Isidro\n",
      "El FMI prevé un frenazo en la economía de Estados Unidos, pero cree que puede evitar la recesión\n",
      "Un hombre mata a tiros en un restaurante a su esposa, la cantante mexicana Yrma Lydya \n",
      "Steven Spielberg: “John Williams va camino de ser eterno”\n",
      "La UE se prepara ante el riesgo de nuevos cortes de gas ruso\n",
      "El True Story Award premia a Jacobo García, reportero de EL PAÍS en México, por ‘Caribe turbio’\n",
      "La FINA prohíbe a Anita Álvarez, la nadadora que se desmayó, participar en la final por equipos en los Mundiales\n",
      "Anita Álvarez, la nadadora que se desmayó en el agua: “Sentí que todo se volvió negro. No recuerdo nada más”\n",
      "Así fue el rescate de la nadadora Anita Álvarez\n",
      "FOTOGALERÍA | El rescate, en imágenes\n",
      "El avispero de Los Altos de Chiapas: una bala en medio de los pulmones\n",
      "López Obrador asegura que México cumplirá con “todos los requisitos” para recuperar la categoría 1 en seguridad aérea\n",
      "\n",
      "\n",
      "Ucrania ordena la retirada de los militares del enclave estratégico de Severodonetsk \n",
      "El Congreso aprueba la ley histórica que aumenta el control sobre las armas en EE UU\n",
      "La ONU concluye que la periodista de Al Jazeera Abu Akleh murió por disparos de fuerzas israelíes\n",
      "La paz global vive su peor momento de los últimos 15 años\n",
      "Nadie quiere el cuadro de Goya\n",
      "Sorolla y Esteban Vicente: convertir la pasión por los jardines en luz para su arte\n",
      "Julio Rojas, creador de la audioserie de ciencia ficción ‘Caso 63’: “Nos golpeó el futuro”\n",
      "‘Aniquilación’, de Michel Houellebecq: confusión en el campo de batalla\n",
      "Escribir en soledad y a la vez conjuntamente  \n",
      "La casa de Ana Frank:  entre el comercio y la apropiación personal\n",
      "Denise Richards sigue los pasos de su hija y se crea una cuenta en OnlyFans\n",
      "‘Podcast’ | Cuando tu intimidad se hace viral\n",
      "Mae West y la muerte de su fan número uno: una tragedia en el ocaso de la estrella más subversiva de Hollywood \n",
      "Sharon Stone: “Perdí nueve hijos por abortos espontáneos. Las mujeres no tenemos un espacio donde discutir la profundidad de estas pérdidas”\n",
      "\n",
      "\n",
      "Christopher Mims: “Amazon sabe cómo para prevenir lesiones. Pero quizá dejaría de ganar dinero”\n",
      "Dentro o fuera de la metrópolis: ¿es posible un dinamismo artístico sin estar en las grandes ciudades?\n",
      "Repensar la función y el futuro del arte contemporáneo\n",
      "Gustavo Petro: la victoria final\n",
      "Ciudad Oculta: las drogas y el hambre no ceden en Argentina\n",
      "Bruno Pereira, un funcionario convertido en activista para proteger a los indígenas\n",
      "Así era América antes de que Colón la descubriera\n",
      "US Supreme Court overturns ‘Roe v Wade,’ ending federal abortion rights\n",
      "Trump tried to put a loyalist at the helm of the Justice Department to challenge Biden’s victory\n",
      "Anita Álvarez, the swimmer who fainted in the pool: ‘I felt everything turn black’\n",
      "WHO debates declaring monkeypox virus a global emergency\n",
      "Petro’s win in Colombia opens new era between Caracas and Bogotá\n",
      "Letras Americanas: la actualidad literaria de un continente vista por el escritor Emiliano Monge\n",
      "Americanas: Reportajes y noticias sobre feminismo e historias con enfoque de género de la región\n",
      "Toda la actualidad científica en el boletín de Materia\n",
      "Ideas: reportajes y entrevistas para entender el mundo\n",
      "Turquía desarticula una red iraní que planeaba atentar contra israelíes en Estambul\n",
      "Los talibanes, aislados y sin recursos, piden ayuda internacional para la emergencia del terremoto en Afganistán\n",
      "La candidatura de Ucrania espolea la impaciencia de los Balcanes para ingresar en la UE \n",
      "Latinoamérica muestra su músculo ante el inicio del alza en las tasas de interés\n",
      "La inflación en México vuelve a escalar y se sitúa en 7,88% en junio\n",
      "Marilynn Malerba, la jefa de la tribu india Mohegan que firmará los nuevos billetes en Estados Unidos\n",
      "Por qué estamos cada vez más deprimidos\n",
      "La expansión de la viruela del mono empuja a la OMS a decidir si es una emergencia internacional\n",
      "Una mañana de luz blanca: relato de un médico tras su primera eutanasia\n",
      "Así suena ‘Break My Soul’, lo nuevo de Beyoncé \n",
      "Michael J. Fox, Diane Warren, Peter Weir y Euzhan Palcy recibirán los Oscar honoríficos\n",
      "María Pagés: “A los lugares cercanos se va a seguir yendo, pero a los lejanos… quién va a poder comprar los billetes”\n",
      "Se llama Lucas, pero yo ya le llamo Diazepam: así me ha sobrepasado que mi perro tenga ansiedad por separación\n",
      "Las incógnitas de la pastilla milagrosa contra un tipo de calvicie\n",
      "Hachas, niños y asesinatos bajo césped artificial: así es la necrópolis monumental más antigua de España \n",
      "Anita Álvarez, la nadadora que se desmayó en el agua: “Sentí que todo se volvió negro. No recuerdo nada más”\n",
      "Wimbledon no permite escapatoria: duro trazado para Nadal y Alcaraz\n",
      "Ya casi no hay goles de falta directa, y la culpa no es de los lanzadores\n",
      "La trampa mortal del trasvase Tajo-Segura: así se ahogan corzos y jabalíes en el canal \n",
      "Dos veranos sin playa, cerrada por contaminación: “Si esto fuera Barcelona, se arreglaba en dos días”\n",
      "Vivir frente a un “vertedero” en el centro de Madrid: estruendo, hedor y ratas en Tirso de Molina\n",
      "Christopher Mims: “Amazon sabe cómo bajar el ritmo de trabajo para prevenir lesiones. Pero quizá dejaría de ganar dinero” \n",
      "¿Sigue siendo imprescindible tener un antivirus? \n",
      "La inteligencia artificial reconocerá el arte gracias a la ciencia ciudadana\n",
      "El rechazo del PP complica la reforma exprés del PSOE para renovar el Constitucional\n",
      "El contrato del que cobró el hermano de Ayuso sigue bajo la lupa de la Fiscalía europea \n",
      "Moreno anticipa “tiempos complicados” y dice que no tiene “varitas mágicas”\n",
      "‘La clave’ de Balbín, gloria y caída del programa que cambió la televisión española\n",
      "‘Maria Ressa, la periodista filipina “no exenta de ser asesinada”, por Ricardo de Querol\n",
      "Pepón Nieto denuncia que TVE vetó una de sus películas en ‘Cine de barrio’ y la corporación recula: se emitirá este sábado\n",
      "Los problemas crecen para los Bieber: Hailey, demandada por la marca de cosmética que lanzó hace una semana\n",
      "Guillermo de Inglaterra cumple 40 años como el candidato ideal para seguir la estela de Isabel II\n",
      "Los 40 años de Guillermo de Inglaterra en 16 fotos\n",
      "Volver a la escuela tras dos años de pandemia\n",
      "La discriminación contra las minorías sexuales limita el desarrollo de Latinoamérica\n",
      "Así fue nuestra experiencia de escribirnos con GPT-3, una máquina de inteligencia artificial\n",
      "Ir a un concierto o pintar nos repara emocionalmente\n",
      "Guy Standing: “Hemos dejado que la derecha se apropie de la libertad”\n",
      "Así era América antes de que Colón la descubriera\n",
      "Ya no se viaja igual que antes de la pandemia: estas son las nuevas modas del turismo \n",
      "El salto mortal de Estrella Galicia \n",
      "LaMDA, Google y cuando jugar con una inteligencia artificial es posible\n",
      "En los sesenta, todo se vendía con fotos\n",
      "La paz global vive su peor momento de los últimos 15 años\n",
      "Las crisis de hoy son diferentes\n",
      "En Flandes las bicis son para el verano: cuatro etapas en la región belga para el placer de viajar lento\n",
      "Las reseñas de los turistas, tan útiles o tan inútiles: una cuenta de Twitter señala comentarios absurdos sobre Asturias\n",
      "Brooke Shields: “Fue duro querer a mi madre alcohólica porque me sentía responsable de ella”\n",
      "Aura García-Junco, sobre las relaciones abiertas: “Quería entender por qué generan tanto rechazo”\n",
      "Eugenia Silva: “No he vivido situaciones extremas. Sabía qué quería y hasta dónde llegar”\n",
      "Las frustraciones de Wes Craven, el genio del terror que quería dirigir melodramas\n",
      "Refresco, fruta y salsa: tres fermentados caseros para principiantes\n",
      "Once buenos restaurantes tailandeses, vietnamitas e indonesios en España\n",
      "Las rentas más bajas soportan una presión fiscal similar a la del 1% más rico\n",
      "Fernando Tejero revela cómo Dani Martín le sacó de una pensión decadente tras llegar a Madrid para llevarle a vivir a casa de sus padres\n",
      "Ponte a prueba con nuestros crucigramas, sopas de letras, sudokus y juegos arcade\n",
      "Un exconcursante de ‘Operación Triunfo’ se lleva 9.000 ‘me gusta’ con su dura réplica a Ayuso\n",
      "El Bayern prepara un golpe al Barça\n",
      "Hidrógeno verde, la coincidencia más feliz de Mallorca\n"
     ]
    }
   ],
   "source": [
    "for h2 in tags:\n",
    "    print(h2.text)\n",
    "    resultados.append(h2.text)"
   ]
  },
  {
   "cell_type": "code",
   "execution_count": 15,
   "id": "0a0b23b7",
   "metadata": {},
   "outputs": [
    {
     "data": {
      "text/plain": [
       "builtin_function_or_method"
      ]
     },
     "execution_count": 15,
     "metadata": {},
     "output_type": "execute_result"
    }
   ],
   "source": [
    "type(resultados.append)"
   ]
  },
  {
   "cell_type": "markdown",
   "id": "95d0c558",
   "metadata": {},
   "source": [
    "Repetimos el proceso para las URLs de las subsecciones de https://elpais.com: internacional, opinión, España, economía, sociedad, educación, clima y medio ambiente, ciencia, cultura, babelia, deportes, tecnología, gente, televisión y eps. Para ello, se realiza el proceso previo de forma similar y se modifican los nombres de las variables poniéndosele números, por ejemplo, req2 para la URL https://elpais.com/internacional, y así sucesivamente."
   ]
  },
  {
   "cell_type": "code",
   "execution_count": 16,
   "id": "5979c65d",
   "metadata": {},
   "outputs": [
    {
     "name": "stdout",
     "output_type": "stream",
     "text": [
      "Fútbol: derechos equiparados\n",
      "El problema israelí se llama Netanyahu\n",
      "Un día muy triste para todas las mujeres\n",
      "Un Derby de platino\n",
      "Vidas gitanas\n",
      "Nostalgia de lo que abandonamos en Argelia\n",
      "Ucrania en la UE, fuerza mayor\n",
      "Hacia un nuevo modelo de residencias\n",
      "La tentación del exceso\n",
      "Luz y tinieblas\n",
      "El mejor sexo de tu vida\n",
      "A medias\n",
      "El clima incendiado\n",
      "El Roto\n",
      "Peridis\n",
      "Flavita Banana\n",
      "Riki Blanco\n",
      "Sciammarella\n",
      "Planeta de Plástico, por Malagón\n",
      "Envía tu carta\n",
      "Desmantelando la sanidad, que es gerundio\n",
      "La proyección de las elecciones en Andalucía\n",
      "Siempre pierden los mismos: los agricultores\n",
      "Opinar sin insultar\n",
      "Contra el conflicto de intereses, transparencia\n",
      "Entre los derechos de Esther López y los de los lectores\n",
      "El defensor del lector contesta\n",
      "El rechazo del PP complica la reforma exprés del PSOE para renovar el Constitucional\n",
      "Los independentistas piden al Congreso que denuncie al exministro Fernández Díaz por mentir a la Cámara\n",
      "18 migrantes muertos y 63 heridos en una avalancha al intentar entrar en Melilla\n",
      "La búsqueda de seguridad vence al cabreo\n",
      "Los errores se pagan\n",
      "Desborde popular en Andalucía\n",
      "Demasiado ruido en el Gobierno de coalición\n",
      "La ‘confederalización’ del PP\n",
      "Sánchez adelanta que las medidas anticrisis se prolongarán hasta final de año\n",
      "El contrato del que cobró el hermano de Ayuso sigue bajo la lupa de la Fiscalía europea \n",
      "Castilla y León promete 35 millones para la sierra de la Culebra, más de la mitad del presupuesto antiincendios\n",
      "Porcuna, el feudo andaluz de Ciudadanos que marca el camino para atajar la crisis del partido\n",
      "El Gobierno impulsa una reforma legal para renovar el Constitucional\n",
      "Vídeo | Las imágenes de los inmigrantes detenidos por Marruecos en Nador\n",
      "Moreno avanza “tiempos complicados” y dice que no tiene “varitas mágicas”\n",
      "Una nueva suspensión de la moción de censura enquista la política local de Linares\n",
      "Aborto, ‘ley Celaá’, eutanasia: las sentencias más importantes a la espera de la renovación del Tribunal Constitucional\n",
      "Así giró Andalucía: la derecha lleva años creciendo sobre todo en barrios pobres\n",
      "El Ejecutivo lleva aprobados más de 10.000 millones en medidas en lo que va de año\n",
      "Un paraíso en el que avistar más de 20 especies de cetáceos\n",
      "El secreto de Fuerteventura se hace viral: la ‘playa de las palomitas’\n",
      "Artesanía y cultura que conquista a las ‘influencers’\n",
      "Más allá de la capital. El triunfo de la vida rural madrileña\n",
      "Así lucha la tierra del cerezo para conseguir un nuevo florecimiento económico\n",
      "“Siempre me ha parecido que los que iban disfrazados eran los demás”\n",
      "“La herramienta más poderosa para salvar a la humanidad son las matemáticas”\n",
      "El INE rebaja el crecimiento del primer trimestre en una décima, hasta el 0,2%, y confirma el enfriamiento de la economía\n",
      "España recibirá 7.800 millones más de lo previsto en ayudas directas del fondo europeo de recuperación\n",
      "Bruselas avala el rescate a Celsa y lo deja a expensas del acuerdo con los acreedores\n",
      "El Banco de España eleva a 23.000 millones los préstamos del ICO en peligro de impago\n",
      "Invierno crudo\n",
      "Aterrizaje suave sin fragmentación\n",
      "El ajuste fiscal que viene: ¿Qué opinan los ciudadanos?\n",
      "Las finanzas que corroen la industria \n",
      "Una oportunidad perdida en el proceso de las energías renovables \n",
      "La petrolera estatal de Argelia reclama a Técnicas Reunidas 80 millones de euros en plena crisis diplomática\n",
      "Ryanair no cancela ningún vuelo desde España en el primer día de huelga\n",
      "Indra se desploma en Bolsa casi un 15% tras el vuelco en su consejo \n",
      "La SEPI rechaza el rescate de Ezentis y la acerca a la quiebra\n",
      "Room Mate pide el concurso de acreedores para dar entrada a un nuevo inversor\n",
      "El Gobierno retrasa el recargo a los combustibles para abaratar la luz y el recorte a las eléctricas por el CO₂\n",
      "La CNMC controla los márgenes de las gasolineras en tiempo real tras la bonificación de 20 céntimos\n",
      "La guerra entre los señores del acero se recrudece\n",
      "DAZN recupera el 80% de lo que pagó por el fútbol, pero tendrá difícil rentabilizarlo\n",
      "Los trabajadores de consultoras y tecnológicas secundan el primer paro de su historia: “No puede ser que la explotación sea norma” \n",
      "La Reserva Federal ve a la banca de Estados Unidos preparada para hacer frente a una recesión\n",
      "Ferrari corre hacia un mundo más verde y caro\n",
      "Vientres de alquiler: una boyante y turbia industria que aprovecha las rendijas legales para enriquecerse\n",
      "Ya no se viaja igual que antes de la pandemia: estas son las nuevas modas del turismo \n",
      "El salto mortal de Estrella Galicia \n",
      "La guerra entre los señores del acero se recrudece\n",
      "Las rentas más bajas soportan una presión fiscal similar a la del 1% más rico\n",
      "La CNMV quiere que los inversores institucionales se impliquen a largo plazo en las cotizadas\n",
      "Las hipotecas a tipo fijo superan el 75% en abril y marcan un nuevo récord en plena escalada del euríbor\n",
      "Por qué el bitcóin ha caído un 70% desde máximos y por qué puede seguir a la baja\n",
      "Líos en la piscina comunitaria: normas y sentencias para un chapuzón seguro\n",
      "Parir en casa, educarlo por mi cuenta… ¿Qué puedo decidir sobre mi hijo y qué no?\n",
      "Saltarse un paso a nivel de camino a la oficina es accidente laboral\n",
      "Francisco Javier Blasco: “Llevamos años sin mejorar la eficacia de las políticas activas de empleo”\n",
      "¿Es esta la edad dorada del emprendimiento universitario?\n",
      "Y después de la EBAU, ¿qué?\n",
      "Cancerberos del bienestar de la empresa\n",
      "Salud a golpe de clic con la cercanía del médico de cabecera\n",
      "Cómo garantizar la seguridad en un mundo de amenazas híbridas\n",
      "¿Cuáles son los dilemas éticos del uso de la inteligencia artificial?\n",
      "Las aventuras de un par de calcetines que dan empleo a todo un pueblo\n",
      "Cultura financiera como punto de partida para volver a empezar\n",
      "Por qué digitalizar una pyme aporta más empleo\n",
      "Logística a bajas temperaturas, la revolución que vino del frío\n",
      "‘Coopetir’: la actitud DFactory\n",
      "Así serán las ciudades de la (nueva) última milla\n",
      "PERTE Agroalimentario: ¿cómo acceder a los fondos europeos?\n",
      "Claves para internacionalizar mi negocio\n",
      "¿Crisis de deuda mundial a la vista?\n",
      "¿Está al frente España de la revolución del hidrógeno? \n",
      "El momento de la energía solar\n",
      "Las principales reformas (con subvención europea) para ahorrar energía en la vivienda\n",
      "Gloria Ramos, cuando el afán de superación acaba en la alfombra roja \n",
      "La importancia de la cultura financiera para tener una buena jubilación\n",
      "Hotmart y su plataforma 360 para creadores de contenidos\n",
      "Una aplicación para presentar la declaración desde casa y conseguir los máximos beneficios\n",
      "El Tribunal Supremo deroga el derecho al aborto en Estados Unidos\n",
      "El aborto en EE UU tras la decisión del Supremo: las claves\n",
      "Un día muy triste para todas las mujeres\n",
      "Un día muy triste para todas las mujeres\n",
      "El Supremo de Estados Unidos destruye un derecho fundamental de las mujeres\n",
      "El intento de suicidio de Juan y las somatizaciones de Carmen: ¿por qué los colegios necesitan un psicólogo educativo?\n",
      "Una mañana de luz blanca: relato de un médico tras su primera eutanasia\n",
      "El origen de la hepatitis aguda infantil es todavía un misterio después de 894 casos, decenas de trasplantes y 18 muertes\n",
      "La Iglesia insiste en que no abrirá sus archivos al Defensor, aunque cederá datos de casos concretos que le solicite\n",
      "El nuevo sistema para evaluar los conocimientos digitales de los profesores valdrá en toda España\n",
      "El repunte de contagios de covid acelera los ingresos hospitalarios impulsado por nuevas variantes de la ómicron \n",
      "Una mañana de luz blanca: relato de un médico tras su primera eutanasia\n",
      "Un año de eutanasia en España: 172 casos y una gran desigualdad entre las comunidades autónomas\n",
      "La expansión de la viruela del mono empuja a la OMS a decidir si es una emergencia internacional\n",
      "El conde de Atarés asesinó a su mujer el día en que se disponía a abandonarle\n",
      "Sanidad descarta que la infección de la finca de Toledo sea un caso de cólera, aunque esté causada por la misma bacteria\n",
      "Las autoridades sanitarias del Reino Unido detectan el virus de la polio en las aguas residuales de Londres\n",
      "Seis de cada diez ciudadanos viven en comunidades autónomas con servicios sociales debilitados\n",
      "Mitos, falsedades, bulos y realidades sobre el VIH 40 años después\n",
      "Educadores con VIH para minimizar el impacto tras el primer diagnóstico\n",
      "El tremendo peso de la obesidad en España\n",
      "Interactivo | Los 14 cambios en los aeropuertos españoles que no ves y que ya están ocurriendo\n",
      "Encontrar empleo pese a los obstáculos. Por dónde empezar la búsqueda\n",
      "La fórmula de Carboneros para evitar el éxodo rural: trabajar cuidando a los vecinos \n",
      "Consejos y cuidados para el primer verano con un gatito o un perrito\n",
      "¿Qué tienen en común perros y gatos cuando son cachorros?\n",
      "La guía definitiva para alimentarnos mejor (y cuidar nuestra salud y la del planeta)\n",
      "Más vida después del cáncer de próstata avanzado \n",
      "Cáncer de ovario, el más rebelde de los tumores ginecológicos\n",
      "El metro como refugio. De los andenes de Madrid en 1936 a los de Kiev en 2022\n",
      "La salud mental de los refugiados: cómo abrirse para cerrar las heridas\n",
      "El desconocido (y esencial) apoyo de los farmacéuticos a los pacientes crónicos\n",
      "El esfuerzo de una paciente por convertirse en su doctora\n",
      "Así es la vida de los refugiados ucranianos en España\n",
      "¿Cómo será el envase para alimentos y bebidas del futuro?\n"
     ]
    },
    {
     "name": "stdout",
     "output_type": "stream",
     "text": [
      "El intento de suicidio de Juan y las somatizaciones de Carmen: ¿por qué los colegios necesitan un psicólogo educativo?\n",
      "El nuevo sistema para evaluar los conocimientos digitales de los profesores valdrá en toda España\n",
      "Un aula de Vallecas se rebela contra los libros de texto que silencian a las mujeres\n",
      "Solo un 3% de alumnos de Cataluña pidió hacer el examen de Selectividad en castellano\n",
      "Subirats reinterpreta la ley de Universidades: freno a la precariedad, facilidades para los alumnos extranjeros y ciencia abierta\n",
      "“Los profesores no van a cambiar de golpe su forma de trabajar el curso que viene por la nueva ley educativa”\n",
      "Trampantojo de pescado y lasaña vegetal en el comedor: cientos de colegios buscan fórmulas para que llevar la alimentación responsable a los niños\n",
      "Vídeo | Las recetas del cocinero escolar para que los niños de El Grau coman sano y rico \n",
      "Así puede convertirse un colegio en un espacio más fresco sin usar aire acondicionado\n",
      "209.691 candidatos compiten por una plaza en la última convocatoria sin ventaja aplastante para los interinos\n",
      "El mileurismo asoma en la mitificada carrera de dentista: “Nunca imaginé una situación así”\n",
      "Sin currículos\n",
      "La escuela concertada ante las desigualdades: el debate pendiente\n",
      "La equidad frente a las políticas educativas de privatización en Andalucía\n",
      "No hay lunes al sol en la Universidad\n",
      "Ofrecer comedor gratis en todos los colegios públicos es “alcanzable y urgente”: costaría 1.664 millones al año, según la ONG Educo  \n",
      "Una fórmula para que la escuela pública compita mejor con la concertada\n",
      "La pérdida de alumnos por el descenso de la natalidad está afectando con más fuerza a la escuela pública que a la concertada\n",
      "El Ayuntamiento de Madrid guarda en un cajón una herramienta ya pagada para ver los datos de contaminación al detalle \n",
      "La implantación del nuevo Bachillerato general fracasa pese a su demanda potencial: “Creímos que lo pedirían seis alumnos y lo han hecho 27”\n",
      "Toni Solano, director de instituto: “Veo mal a los niños, necesitan muchísima ayuda”\n",
      "Niños, Administraciones y redes sociales: prohibir su uso con una mano y enseñar a crear contenidos con la otra\n",
      "El Gobierno aprueba el decreto de bachillerato: los alumnos podrán terminar con un suspenso y desembocará en una nueva Selectividad\n",
      "La ley del silencio dentro y fuera del aula\n",
      "Las universitarias desertan del grado de Matemáticas ahora que tiene pleno empleo. ¿Por qué?\n",
      "Golpe a la temporalidad en las universidades: 25.000 profesores asociados serán indefinidos a tiempo parcial\n",
      "Antonio Abril: “Yo le decía a Castells: ‘Tienes que aguantar la presión, tienes que hacer la reforma universitaria”\n",
      "Los universitarios extranjeros podrán quedarse un año en España automáticamente al terminar la carrera\n",
      "Sierra de la Culebra: un incendio gigantesco que no pone en peligro a los lobos, pero sí un modelo de convivencia ejemplar\n",
      "La indignación crece sobre las ascuas del incendio en la sierra de la Culebra\n",
      "Jardines en los tejados, árboles africanos y calles pintadas de blanco: cómo adaptar la ciudad al calor extremo\n",
      "La construcción de 52 viviendas en una playa de Begur desata la indignación de las redes\n",
      "Un continente mortal para los defensores de la tierra\n",
      "Drama en la sierra de la Culebra, el paraíso del lobo ibérico que quedó abrasado por un rayo\n",
      "Alemania anuncia que recurrirá al carbón ante el recorte de suministro de gas ruso\n",
      "La inacción frente al cambio climático hará que sea habitual superar los 40 grados en junio en España\n",
      "Ibrahim Thiaw: “Hay que prepararse mejor frente a las sequías, los agricultores franceses están cultivando ya cereales africanos”\n",
      "La ola de calor provoca la caída de cientos de crías de vencejo en las calles de Sevilla y Córdoba\n",
      "“En Singapur ya se vende carne cultivada para alimentación” \n",
      "La lección del martín pescador para afrontar la crisis ecológica\n",
      "Estocolmo+50: mirar atrás para tomar impulso\n",
      "El verano ya no es lo que era \n",
      "Juan Serna, Premio Nacional de Medio Ambiente: un reconocimiento merecido\n",
      "Ríos imposibles: las 171.000 barreras que rompen el curso de agua en España\n",
      "La UE abraza las renovables para romper la dependencia de Rusia\n",
      "La lucha en un pueblo de Teruel para salvar su última montaña\n",
      "¿Qué aire respiran los niños de Madrid y Barcelona? En el 46% de los colegios se supera la contaminación permitida\n",
      "Así se puede ver la alineación de cinco planetas a simple vista, justo antes de cada amanecer\n",
      "Las vacunas contra el coronavirus salvaron 20 millones de vidas en su primer año\n",
      "Seis jóvenes científicos que han impulsado avances en la investigación matemática de vanguardia obtienen los Premios Vicent Caselles\n",
      "Así se puede ver la alineación de cinco planetas a simple vista, justo antes de cada amanecer \n",
      "Fracciones egipcias\n",
      "El Congreso aprueba la reforma de la ley de la ciencia sin votos en contra\n",
      "Matemáticas para describir los remolinos, los taxis del océano\n",
      "Las incógnitas de la pastilla milagrosa contra un tipo de calvicie\n",
      "¿Se puede dejar de roncar?\n",
      "El síndrome del hombre lobo y la realidad lógica de su fábula\n",
      "Muere Yves Coppens, uno de los descubridores del fósil más famoso del mundo \n",
      "Ni patentes, ni firmar estudios: las científicas reciben mucho menos reconocimiento por su trabajo\n",
      "La metástasis del cáncer avanza durante el sueño\n",
      "A la caza de exolunas, la próxima frontera de exploración planetaria\n",
      "Hachas, niños y asesinatos bajo césped artificial: así es la necrópolis monumental más antigua de España \n",
      "Eloísa del Pino sustituye a Rosa Menéndez al frente del CSIC\n",
      "A la caza de exolunas, la próxima frontera de exploración planetaria\n",
      "Matemáticas para describir los remolinos, los taxis del océano\n",
      "Reaparece la tesis de María Wonenburger, la pionera matemática española que permaneció décadas en el olvido\n",
      "Técnicas criptográficas que se fundamentan en lo impredecible\n",
      "Las matemáticas de los juegos malabares\n",
      "El problema del huerto\n",
      "Números McNugget\n",
      "La moneda de Frobenius\n",
      "El síndrome del hombre lobo y la realidad lógica de su fábula\n",
      "La locura como juego; más allá del Quijote y de las novelas de Pérez Galdós\n",
      "El andar del borracho, las huellas del azar y el juego de dados en algunos libros malditos\n",
      "El campo vibratorio y las fronteras de la ciencia desde un punto de vista científico\n",
      "Paul Auster fluctuando entre el pudin de pasas y la nube de mosquitos\n",
      "¿Son mejores las hormonas bioidénticas?\n",
      "¿Qué surgió antes, el ARN o el ADN?\n",
      "¿Por qué se sabe que los núcleos de la Tierra rotan?\n",
      "¿Qué son los mini reactores nucleares?\n",
      "Invitados indeseables por Navidad: el muérdago y otras plagas que evitar durante las fiestas\n",
      "Las ‘apps’ nutricionales o cómo comer bien no debería depender de uno mismo\n",
      "Malnutrición invisible: el impacto de la pobreza en la salud infantil\n",
      "El óxido de etileno, la sustancia cancerígena que ha obligado a retirar miles de alimentos en la UE\n",
      "Que no te líen con los ingredientes: aceites y grasas de mala calidad nutricional\n",
      "Joaquín Sorolla y Esteban Vicente: cómo convertir la pasión por los jardines en luz para su arte\n",
      "Nadie quiere el cuadro de Goya\n",
      "El Museo de Teruel afirma que el Torico actual es el mismo que había antes de la Guerra Civil, que ya no era de bronce  \n",
      "“¿Cómo lo haría Tony?”\n",
      "La casa de Ana Frank: memoria del Holocausto, entre el comercio y la apropiación personal\n",
      "El libro que explica qué significa ‘votar normal’\n",
      "El poeta\n",
      "Juan Muñoz se descubre más allá de sus esculturas\n",
      "El cine quiere ser verde desde la alfombra roja a la basura de una sala\n",
      "Richard Kagan: “Mi labor no es defender o criticar la Leyenda Negra, sino entenderla”\n",
      "Gabi Ruiz, codirector del Primavera Sound: “He sido insolente, mi lugar estará ahora en segunda fila”\n",
      "‘Elvis’, el ‘biopic’ del rey del rock, y otros estrenos de este fin de semana \n",
      "David Cronenberg recibirá un premio Donostia 2022 del Festival de San Sebastián\n",
      "Spielberg: “John Williams es atemporal y va camino de ser eterno”\n",
      "El Ministerio de Cultura y Deporte crea el Premio Nacional de Patrimonio Cinematográfico y Audiovisual\n",
      "¿Es el Torico de Teruel una falsificación? La restauración tras una caída desata la sospecha de que sea una copia de la Guerra Civil\n",
      "“¿Cómo lo haría Tony?”\n",
      "La arquitecta Margarita Jover: “Me resisto a que el capital decida la forma del mundo”\n",
      "La pintora Carmen Álvarez-Coto acaba con el misterio y vuelve después de tres décadas de retiro voluntario\n",
      "La Unesco alerta sobre los ataques a más de 150 espacios culturales en Ucrania\n",
      "El último atardecer de Europa se ve solo desde este lugar. Un viaje hacia el infinito por el Camino de Fisterra-Muxía\n",
      "Un paseo fluvial con museos y otro lleno de piscinas termales. Las sorpresas de la Vía de la Plata\n",
      "Lorca, en la ciudad al margen\n",
      "El Pirineo oscense, para entrar a vivir\n",
      "Toda la lectura del verano, en el bolsillo\n",
      "Harry Potter cumple 25 años: libros para revivir la magia de Hogwarts\n",
      "Los mejores libros recientes para reír a carcajadas\n",
      "Disfruta del Festival de Teatro Clásico de Mérida\n",
      "'Territorios de vanguardia' en el Museo Reina Sofía\n",
      "Últimas funciones de 'We Will Rock You'\n",
      "Nueva edición de Cibeles de cine \n",
      "Manzanares salva la tarde de San Juan\n",
      "La fiesta de los toros, una emocionante y apasionada polémica desde el siglo XIII\n",
      "La apabullante autoridad de Roca Rey\n",
      "José Fernando Molina gusta y abre una generosa puerta grande en su presentación en Madrid\n"
     ]
    }
   ],
   "source": [
    "req3 = requests.get(\"https://elpais.com/opinion\")\n",
    "# Si el estatus code no es 200 no se puede leer la página\n",
    "if (req.status_code != 200):\n",
    " raise Exception(\"No se puede hacer Web Scraping en\"+ URL)\n",
    "soup3 = BeautifulSoup(req3.text, 'html.parser')\n",
    "\n",
    "tags = soup3.findAll(\"h2\")\n",
    "\n",
    "for h2 in tags:\n",
    "    print(h2.text)\n",
    "    resultados.append(h2.text)\n",
    "\n",
    "req4 = requests.get(\"https://elpais.com/espana/\")\n",
    "# Si el estatus code no es 200 no se puede leer la página\n",
    "if (req.status_code != 200):\n",
    " raise Exception(\"No se puede hacer Web Scraping en\"+ URL)\n",
    "soup4 = BeautifulSoup(req4.text, 'html.parser')\n",
    "\n",
    "tags = soup4.findAll(\"h2\")\n",
    "\n",
    "for h2 in tags:\n",
    "    print(h2.text)\n",
    "    resultados.append(h2.text)\n",
    "\n",
    "req5 = requests.get(\"https://elpais.com/economia/\")\n",
    "# Si el estatus code no es 200 no se puede leer la página\n",
    "if (req.status_code != 200):\n",
    " raise Exception(\"No se puede hacer Web Scraping en\"+ URL)\n",
    "soup5 = BeautifulSoup(req5.text, 'html.parser')\n",
    "\n",
    "tags = soup5.findAll(\"h2\")\n",
    "\n",
    "for h2 in tags:\n",
    "    print(h2.text)\n",
    "    resultados.append(h2.text)\n",
    "\n",
    "req6 = requests.get(\"https://elpais.com/sociedad/\")\n",
    "# Si el estatus code no es 200 no se puede leer la página\n",
    "if (req.status_code != 200):\n",
    " raise Exception(\"No se puede hacer Web Scraping en\"+ URL)\n",
    "soup6 = BeautifulSoup(req6.text, 'html.parser')\n",
    "\n",
    "tags = soup6.findAll(\"h2\")\n",
    "\n",
    "for h2 in tags:\n",
    "    print(h2.text)\n",
    "    resultados.append(h2.text)\n",
    "\n",
    "req7 = requests.get(\"https://elpais.com/educacion/\")\n",
    "# Si el estatus code no es 200 no se puede leer la página\n",
    "if (req.status_code != 200):\n",
    " raise Exception(\"No se puede hacer Web Scraping en\"+ URL)\n",
    "soup7 = BeautifulSoup(req7.text, 'html.parser')\n",
    "\n",
    "tags = soup7.findAll(\"h2\")\n",
    "\n",
    "for h2 in tags:\n",
    "    print(h2.text)\n",
    "    resultados.append(h2.text)\n",
    "\n",
    "req8 = requests.get(\"https://elpais.com/clima-y-medio-ambiente/\")\n",
    "# Si el estatus code no es 200 no se puede leer la página\n",
    "if (req.status_code != 200):\n",
    " raise Exception(\"No se puede hacer Web Scraping en\"+ URL)\n",
    "soup8 = BeautifulSoup(req8.text, 'html.parser')\n",
    "\n",
    "tags = soup8.findAll(\"h2\")\n",
    "\n",
    "for h2 in tags:\n",
    "    print(h2.text)\n",
    "    resultados.append(h2.text)\n",
    "\n",
    "req9 = requests.get(\"https://elpais.com/ciencia/\")\n",
    "# Si el estatus code no es 200 no se puede leer la página\n",
    "if (req.status_code != 200):\n",
    " raise Exception(\"No se puede hacer Web Scraping en\"+ URL)\n",
    "soup9 = BeautifulSoup(req9.text, 'html.parser')\n",
    "\n",
    "tags = soup9.findAll(\"h2\")\n",
    "\n",
    "for h2 in tags:\n",
    "    print(h2.text)\n",
    "    resultados.append(h2.text)\n",
    "\n",
    "req10 = requests.get(\"https://elpais.com/cultura/\")\n",
    "# Si el estatus code no es 200 no se puede leer la página\n",
    "if (req.status_code != 200):\n",
    " raise Exception(\"No se puede hacer Web Scraping en\"+ URL)\n",
    "soup10 = BeautifulSoup(req10.text, 'html.parser')\n",
    "\n",
    "tags = soup10.findAll(\"h2\")\n",
    "\n",
    "for h2 in tags:\n",
    "    print(h2.text)\n",
    "    resultados.append(h2.text)"
   ]
  }
 ],
 "metadata": {
  "kernelspec": {
   "display_name": "Python 3 (ipykernel)",
   "language": "python",
   "name": "python3"
  },
  "language_info": {
   "codemirror_mode": {
    "name": "ipython",
    "version": 3
   },
   "file_extension": ".py",
   "mimetype": "text/x-python",
   "name": "python",
   "nbconvert_exporter": "python",
   "pygments_lexer": "ipython3",
   "version": "3.9.12"
  }
 },
 "nbformat": 4,
 "nbformat_minor": 5
}
