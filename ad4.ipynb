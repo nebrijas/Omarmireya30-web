{
 "cells": [
  {
   "cell_type": "markdown",
   "id": "b809bd25",
   "metadata": {},
   "source": [
    "# AD4: conexión con la API del Covid-19 y su análisis con Pandas"
   ]
  },
  {
   "cell_type": "markdown",
   "id": "efe14797",
   "metadata": {},
   "source": [
    "Me conecto con la API https://covid19api.com/"
   ]
  },
  {
   "cell_type": "code",
   "execution_count": 2,
   "id": "43179086",
   "metadata": {},
   "outputs": [
    {
     "name": "stdout",
     "output_type": "stream",
     "text": [
      "Requirement already satisfied: pandas in c:\\users\\wow\\anaconda3\\lib\\site-packages (1.4.2)\n",
      "Requirement already satisfied: pytz>=2020.1 in c:\\users\\wow\\anaconda3\\lib\\site-packages (from pandas) (2021.3)\n",
      "Requirement already satisfied: python-dateutil>=2.8.1 in c:\\users\\wow\\anaconda3\\lib\\site-packages (from pandas) (2.8.2)\n",
      "Requirement already satisfied: numpy>=1.18.5 in c:\\users\\wow\\anaconda3\\lib\\site-packages (from pandas) (1.21.5)\n",
      "Requirement already satisfied: six>=1.5 in c:\\users\\wow\\anaconda3\\lib\\site-packages (from python-dateutil>=2.8.1->pandas) (1.16.0)\n"
     ]
    }
   ],
   "source": [
    "!pip install pandas"
   ]
  },
  {
   "cell_type": "code",
   "execution_count": 2,
   "id": "130e1f2c",
   "metadata": {},
   "outputs": [],
   "source": [
    "import pandas as pd "
   ]
  },
  {
   "cell_type": "code",
   "execution_count": 4,
   "id": "0cf8c002",
   "metadata": {},
   "outputs": [],
   "source": [
    "url='https://api.covid19api.com/countries'"
   ]
  },
  {
   "cell_type": "code",
   "execution_count": 5,
   "id": "73eceebf",
   "metadata": {},
   "outputs": [
    {
     "data": {
      "text/plain": [
       "'https://api.covid19api.com/countries'"
      ]
     },
     "execution_count": 5,
     "metadata": {},
     "output_type": "execute_result"
    }
   ],
   "source": [
    "url"
   ]
  },
  {
   "cell_type": "code",
   "execution_count": 6,
   "id": "6092d81b",
   "metadata": {},
   "outputs": [],
   "source": [
    "df= pd.read_json(url)"
   ]
  },
  {
   "cell_type": "code",
   "execution_count": 7,
   "id": "f0c0bf30",
   "metadata": {},
   "outputs": [
    {
     "data": {
      "text/html": [
       "<div>\n",
       "<style scoped>\n",
       "    .dataframe tbody tr th:only-of-type {\n",
       "        vertical-align: middle;\n",
       "    }\n",
       "\n",
       "    .dataframe tbody tr th {\n",
       "        vertical-align: top;\n",
       "    }\n",
       "\n",
       "    .dataframe thead th {\n",
       "        text-align: right;\n",
       "    }\n",
       "</style>\n",
       "<table border=\"1\" class=\"dataframe\">\n",
       "  <thead>\n",
       "    <tr style=\"text-align: right;\">\n",
       "      <th></th>\n",
       "      <th>Country</th>\n",
       "      <th>Slug</th>\n",
       "      <th>ISO2</th>\n",
       "    </tr>\n",
       "  </thead>\n",
       "  <tbody>\n",
       "    <tr>\n",
       "      <th>0</th>\n",
       "      <td>Gibraltar</td>\n",
       "      <td>gibraltar</td>\n",
       "      <td>GI</td>\n",
       "    </tr>\n",
       "    <tr>\n",
       "      <th>1</th>\n",
       "      <td>Oman</td>\n",
       "      <td>oman</td>\n",
       "      <td>OM</td>\n",
       "    </tr>\n",
       "    <tr>\n",
       "      <th>2</th>\n",
       "      <td>France</td>\n",
       "      <td>france</td>\n",
       "      <td>FR</td>\n",
       "    </tr>\n",
       "    <tr>\n",
       "      <th>3</th>\n",
       "      <td>Jersey</td>\n",
       "      <td>jersey</td>\n",
       "      <td>JE</td>\n",
       "    </tr>\n",
       "    <tr>\n",
       "      <th>4</th>\n",
       "      <td>Mali</td>\n",
       "      <td>mali</td>\n",
       "      <td>ML</td>\n",
       "    </tr>\n",
       "    <tr>\n",
       "      <th>...</th>\n",
       "      <td>...</td>\n",
       "      <td>...</td>\n",
       "      <td>...</td>\n",
       "    </tr>\n",
       "    <tr>\n",
       "      <th>243</th>\n",
       "      <td>Puerto Rico</td>\n",
       "      <td>puerto-rico</td>\n",
       "      <td>PR</td>\n",
       "    </tr>\n",
       "    <tr>\n",
       "      <th>244</th>\n",
       "      <td>Papua New Guinea</td>\n",
       "      <td>papua-new-guinea</td>\n",
       "      <td>PG</td>\n",
       "    </tr>\n",
       "    <tr>\n",
       "      <th>245</th>\n",
       "      <td>Saint Pierre and Miquelon</td>\n",
       "      <td>saint-pierre-and-miquelon</td>\n",
       "      <td>PM</td>\n",
       "    </tr>\n",
       "    <tr>\n",
       "      <th>246</th>\n",
       "      <td>Timor-Leste</td>\n",
       "      <td>timor-leste</td>\n",
       "      <td>TL</td>\n",
       "    </tr>\n",
       "    <tr>\n",
       "      <th>247</th>\n",
       "      <td>Montenegro</td>\n",
       "      <td>montenegro</td>\n",
       "      <td>ME</td>\n",
       "    </tr>\n",
       "  </tbody>\n",
       "</table>\n",
       "<p>248 rows × 3 columns</p>\n",
       "</div>"
      ],
      "text/plain": [
       "                       Country                       Slug ISO2\n",
       "0                    Gibraltar                  gibraltar   GI\n",
       "1                         Oman                       oman   OM\n",
       "2                       France                     france   FR\n",
       "3                       Jersey                     jersey   JE\n",
       "4                         Mali                       mali   ML\n",
       "..                         ...                        ...  ...\n",
       "243                Puerto Rico                puerto-rico   PR\n",
       "244           Papua New Guinea           papua-new-guinea   PG\n",
       "245  Saint Pierre and Miquelon  saint-pierre-and-miquelon   PM\n",
       "246                Timor-Leste                timor-leste   TL\n",
       "247                 Montenegro                 montenegro   ME\n",
       "\n",
       "[248 rows x 3 columns]"
      ]
     },
     "execution_count": 7,
     "metadata": {},
     "output_type": "execute_result"
    }
   ],
   "source": [
    "df"
   ]
  },
  {
   "cell_type": "code",
   "execution_count": 8,
   "id": "e9ad87a6",
   "metadata": {},
   "outputs": [
    {
     "data": {
      "text/html": [
       "<div>\n",
       "<style scoped>\n",
       "    .dataframe tbody tr th:only-of-type {\n",
       "        vertical-align: middle;\n",
       "    }\n",
       "\n",
       "    .dataframe tbody tr th {\n",
       "        vertical-align: top;\n",
       "    }\n",
       "\n",
       "    .dataframe thead th {\n",
       "        text-align: right;\n",
       "    }\n",
       "</style>\n",
       "<table border=\"1\" class=\"dataframe\">\n",
       "  <thead>\n",
       "    <tr style=\"text-align: right;\">\n",
       "      <th></th>\n",
       "      <th>Country</th>\n",
       "      <th>Slug</th>\n",
       "      <th>ISO2</th>\n",
       "    </tr>\n",
       "  </thead>\n",
       "  <tbody>\n",
       "    <tr>\n",
       "      <th>190</th>\n",
       "      <td>Panama</td>\n",
       "      <td>panama</td>\n",
       "      <td>PA</td>\n",
       "    </tr>\n",
       "  </tbody>\n",
       "</table>\n",
       "</div>"
      ],
      "text/plain": [
       "    Country    Slug ISO2\n",
       "190  Panama  panama   PA"
      ]
     },
     "execution_count": 8,
     "metadata": {},
     "output_type": "execute_result"
    }
   ],
   "source": [
    "df[df['Country']=='Panama']"
   ]
  },
  {
   "cell_type": "code",
   "execution_count": 9,
   "id": "b94513ac",
   "metadata": {},
   "outputs": [
    {
     "data": {
      "text/html": [
       "<div>\n",
       "<style scoped>\n",
       "    .dataframe tbody tr th:only-of-type {\n",
       "        vertical-align: middle;\n",
       "    }\n",
       "\n",
       "    .dataframe tbody tr th {\n",
       "        vertical-align: top;\n",
       "    }\n",
       "\n",
       "    .dataframe thead th {\n",
       "        text-align: right;\n",
       "    }\n",
       "</style>\n",
       "<table border=\"1\" class=\"dataframe\">\n",
       "  <thead>\n",
       "    <tr style=\"text-align: right;\">\n",
       "      <th></th>\n",
       "      <th>Country</th>\n",
       "      <th>Slug</th>\n",
       "      <th>ISO2</th>\n",
       "    </tr>\n",
       "  </thead>\n",
       "  <tbody>\n",
       "    <tr>\n",
       "      <th>141</th>\n",
       "      <td>Spain</td>\n",
       "      <td>spain</td>\n",
       "      <td>ES</td>\n",
       "    </tr>\n",
       "  </tbody>\n",
       "</table>\n",
       "</div>"
      ],
      "text/plain": [
       "    Country   Slug ISO2\n",
       "141   Spain  spain   ES"
      ]
     },
     "execution_count": 9,
     "metadata": {},
     "output_type": "execute_result"
    }
   ],
   "source": [
    "df[df['Country']=='Spain']"
   ]
  },
  {
   "cell_type": "code",
   "execution_count": 11,
   "id": "111fca5b",
   "metadata": {},
   "outputs": [
    {
     "data": {
      "text/html": [
       "<div>\n",
       "<style scoped>\n",
       "    .dataframe tbody tr th:only-of-type {\n",
       "        vertical-align: middle;\n",
       "    }\n",
       "\n",
       "    .dataframe tbody tr th {\n",
       "        vertical-align: top;\n",
       "    }\n",
       "\n",
       "    .dataframe thead th {\n",
       "        text-align: right;\n",
       "    }\n",
       "</style>\n",
       "<table border=\"1\" class=\"dataframe\">\n",
       "  <thead>\n",
       "    <tr style=\"text-align: right;\">\n",
       "      <th></th>\n",
       "      <th>Country</th>\n",
       "      <th>CountryCode</th>\n",
       "      <th>Province</th>\n",
       "      <th>City</th>\n",
       "      <th>CityCode</th>\n",
       "      <th>Lat</th>\n",
       "      <th>Lon</th>\n",
       "      <th>Cases</th>\n",
       "      <th>Status</th>\n",
       "      <th>Date</th>\n",
       "    </tr>\n",
       "  </thead>\n",
       "  <tbody>\n",
       "    <tr>\n",
       "      <th>0</th>\n",
       "      <td>Spain</td>\n",
       "      <td>ES</td>\n",
       "      <td></td>\n",
       "      <td></td>\n",
       "      <td></td>\n",
       "      <td>40.46</td>\n",
       "      <td>-3.75</td>\n",
       "      <td>0</td>\n",
       "      <td>confirmed</td>\n",
       "      <td>2020-01-22 00:00:00+00:00</td>\n",
       "    </tr>\n",
       "    <tr>\n",
       "      <th>1</th>\n",
       "      <td>Spain</td>\n",
       "      <td>ES</td>\n",
       "      <td></td>\n",
       "      <td></td>\n",
       "      <td></td>\n",
       "      <td>40.46</td>\n",
       "      <td>-3.75</td>\n",
       "      <td>0</td>\n",
       "      <td>confirmed</td>\n",
       "      <td>2020-01-23 00:00:00+00:00</td>\n",
       "    </tr>\n",
       "    <tr>\n",
       "      <th>2</th>\n",
       "      <td>Spain</td>\n",
       "      <td>ES</td>\n",
       "      <td></td>\n",
       "      <td></td>\n",
       "      <td></td>\n",
       "      <td>40.46</td>\n",
       "      <td>-3.75</td>\n",
       "      <td>0</td>\n",
       "      <td>confirmed</td>\n",
       "      <td>2020-01-24 00:00:00+00:00</td>\n",
       "    </tr>\n",
       "    <tr>\n",
       "      <th>3</th>\n",
       "      <td>Spain</td>\n",
       "      <td>ES</td>\n",
       "      <td></td>\n",
       "      <td></td>\n",
       "      <td></td>\n",
       "      <td>40.46</td>\n",
       "      <td>-3.75</td>\n",
       "      <td>0</td>\n",
       "      <td>confirmed</td>\n",
       "      <td>2020-01-25 00:00:00+00:00</td>\n",
       "    </tr>\n",
       "    <tr>\n",
       "      <th>4</th>\n",
       "      <td>Spain</td>\n",
       "      <td>ES</td>\n",
       "      <td></td>\n",
       "      <td></td>\n",
       "      <td></td>\n",
       "      <td>40.46</td>\n",
       "      <td>-3.75</td>\n",
       "      <td>0</td>\n",
       "      <td>confirmed</td>\n",
       "      <td>2020-01-26 00:00:00+00:00</td>\n",
       "    </tr>\n",
       "    <tr>\n",
       "      <th>...</th>\n",
       "      <td>...</td>\n",
       "      <td>...</td>\n",
       "      <td>...</td>\n",
       "      <td>...</td>\n",
       "      <td>...</td>\n",
       "      <td>...</td>\n",
       "      <td>...</td>\n",
       "      <td>...</td>\n",
       "      <td>...</td>\n",
       "      <td>...</td>\n",
       "    </tr>\n",
       "    <tr>\n",
       "      <th>891</th>\n",
       "      <td>Spain</td>\n",
       "      <td>ES</td>\n",
       "      <td></td>\n",
       "      <td></td>\n",
       "      <td></td>\n",
       "      <td>40.46</td>\n",
       "      <td>-3.75</td>\n",
       "      <td>12818184</td>\n",
       "      <td>confirmed</td>\n",
       "      <td>2022-07-01 00:00:00+00:00</td>\n",
       "    </tr>\n",
       "    <tr>\n",
       "      <th>892</th>\n",
       "      <td>Spain</td>\n",
       "      <td>ES</td>\n",
       "      <td></td>\n",
       "      <td></td>\n",
       "      <td></td>\n",
       "      <td>40.46</td>\n",
       "      <td>-3.75</td>\n",
       "      <td>12818184</td>\n",
       "      <td>confirmed</td>\n",
       "      <td>2022-07-02 00:00:00+00:00</td>\n",
       "    </tr>\n",
       "    <tr>\n",
       "      <th>893</th>\n",
       "      <td>Spain</td>\n",
       "      <td>ES</td>\n",
       "      <td></td>\n",
       "      <td></td>\n",
       "      <td></td>\n",
       "      <td>40.46</td>\n",
       "      <td>-3.75</td>\n",
       "      <td>12818184</td>\n",
       "      <td>confirmed</td>\n",
       "      <td>2022-07-03 00:00:00+00:00</td>\n",
       "    </tr>\n",
       "    <tr>\n",
       "      <th>894</th>\n",
       "      <td>Spain</td>\n",
       "      <td>ES</td>\n",
       "      <td></td>\n",
       "      <td></td>\n",
       "      <td></td>\n",
       "      <td>40.46</td>\n",
       "      <td>-3.75</td>\n",
       "      <td>12818184</td>\n",
       "      <td>confirmed</td>\n",
       "      <td>2022-07-04 00:00:00+00:00</td>\n",
       "    </tr>\n",
       "    <tr>\n",
       "      <th>895</th>\n",
       "      <td>Spain</td>\n",
       "      <td>ES</td>\n",
       "      <td></td>\n",
       "      <td></td>\n",
       "      <td></td>\n",
       "      <td>40.46</td>\n",
       "      <td>-3.75</td>\n",
       "      <td>12890002</td>\n",
       "      <td>confirmed</td>\n",
       "      <td>2022-07-05 00:00:00+00:00</td>\n",
       "    </tr>\n",
       "  </tbody>\n",
       "</table>\n",
       "<p>896 rows × 10 columns</p>\n",
       "</div>"
      ],
      "text/plain": [
       "    Country CountryCode Province City CityCode    Lat   Lon     Cases  \\\n",
       "0     Spain          ES                         40.46 -3.75         0   \n",
       "1     Spain          ES                         40.46 -3.75         0   \n",
       "2     Spain          ES                         40.46 -3.75         0   \n",
       "3     Spain          ES                         40.46 -3.75         0   \n",
       "4     Spain          ES                         40.46 -3.75         0   \n",
       "..      ...         ...      ...  ...      ...    ...   ...       ...   \n",
       "891   Spain          ES                         40.46 -3.75  12818184   \n",
       "892   Spain          ES                         40.46 -3.75  12818184   \n",
       "893   Spain          ES                         40.46 -3.75  12818184   \n",
       "894   Spain          ES                         40.46 -3.75  12818184   \n",
       "895   Spain          ES                         40.46 -3.75  12890002   \n",
       "\n",
       "        Status                      Date  \n",
       "0    confirmed 2020-01-22 00:00:00+00:00  \n",
       "1    confirmed 2020-01-23 00:00:00+00:00  \n",
       "2    confirmed 2020-01-24 00:00:00+00:00  \n",
       "3    confirmed 2020-01-25 00:00:00+00:00  \n",
       "4    confirmed 2020-01-26 00:00:00+00:00  \n",
       "..         ...                       ...  \n",
       "891  confirmed 2022-07-01 00:00:00+00:00  \n",
       "892  confirmed 2022-07-02 00:00:00+00:00  \n",
       "893  confirmed 2022-07-03 00:00:00+00:00  \n",
       "894  confirmed 2022-07-04 00:00:00+00:00  \n",
       "895  confirmed 2022-07-05 00:00:00+00:00  \n",
       "\n",
       "[896 rows x 10 columns]"
      ]
     },
     "execution_count": 11,
     "metadata": {},
     "output_type": "execute_result"
    }
   ],
   "source": [
    "url_rt_es = 'https://api.covid19api.com/country/spain/status/confirmed/live'\n",
    "df_rt_es = pd.read_json(url_rt_es)\n",
    "df_rt_es"
   ]
  },
  {
   "cell_type": "code",
   "execution_count": 19,
   "id": "dc457b64",
   "metadata": {},
   "outputs": [
    {
     "data": {
      "text/html": [
       "<div>\n",
       "<style scoped>\n",
       "    .dataframe tbody tr th:only-of-type {\n",
       "        vertical-align: middle;\n",
       "    }\n",
       "\n",
       "    .dataframe tbody tr th {\n",
       "        vertical-align: top;\n",
       "    }\n",
       "\n",
       "    .dataframe thead th {\n",
       "        text-align: right;\n",
       "    }\n",
       "</style>\n",
       "<table border=\"1\" class=\"dataframe\">\n",
       "  <thead>\n",
       "    <tr style=\"text-align: right;\">\n",
       "      <th></th>\n",
       "      <th>Country</th>\n",
       "      <th>CountryCode</th>\n",
       "      <th>Province</th>\n",
       "      <th>City</th>\n",
       "      <th>CityCode</th>\n",
       "      <th>Lat</th>\n",
       "      <th>Lon</th>\n",
       "      <th>Cases</th>\n",
       "      <th>Status</th>\n",
       "      <th>Date</th>\n",
       "    </tr>\n",
       "  </thead>\n",
       "  <tbody>\n",
       "    <tr>\n",
       "      <th>0</th>\n",
       "      <td>Panama</td>\n",
       "      <td>PA</td>\n",
       "      <td></td>\n",
       "      <td></td>\n",
       "      <td></td>\n",
       "      <td>8.54</td>\n",
       "      <td>-80.78</td>\n",
       "      <td>0</td>\n",
       "      <td>confirmed</td>\n",
       "      <td>2020-01-22 00:00:00+00:00</td>\n",
       "    </tr>\n",
       "    <tr>\n",
       "      <th>1</th>\n",
       "      <td>Panama</td>\n",
       "      <td>PA</td>\n",
       "      <td></td>\n",
       "      <td></td>\n",
       "      <td></td>\n",
       "      <td>8.54</td>\n",
       "      <td>-80.78</td>\n",
       "      <td>0</td>\n",
       "      <td>confirmed</td>\n",
       "      <td>2020-01-23 00:00:00+00:00</td>\n",
       "    </tr>\n",
       "    <tr>\n",
       "      <th>2</th>\n",
       "      <td>Panama</td>\n",
       "      <td>PA</td>\n",
       "      <td></td>\n",
       "      <td></td>\n",
       "      <td></td>\n",
       "      <td>8.54</td>\n",
       "      <td>-80.78</td>\n",
       "      <td>0</td>\n",
       "      <td>confirmed</td>\n",
       "      <td>2020-01-24 00:00:00+00:00</td>\n",
       "    </tr>\n",
       "    <tr>\n",
       "      <th>3</th>\n",
       "      <td>Panama</td>\n",
       "      <td>PA</td>\n",
       "      <td></td>\n",
       "      <td></td>\n",
       "      <td></td>\n",
       "      <td>8.54</td>\n",
       "      <td>-80.78</td>\n",
       "      <td>0</td>\n",
       "      <td>confirmed</td>\n",
       "      <td>2020-01-25 00:00:00+00:00</td>\n",
       "    </tr>\n",
       "    <tr>\n",
       "      <th>4</th>\n",
       "      <td>Panama</td>\n",
       "      <td>PA</td>\n",
       "      <td></td>\n",
       "      <td></td>\n",
       "      <td></td>\n",
       "      <td>8.54</td>\n",
       "      <td>-80.78</td>\n",
       "      <td>0</td>\n",
       "      <td>confirmed</td>\n",
       "      <td>2020-01-26 00:00:00+00:00</td>\n",
       "    </tr>\n",
       "    <tr>\n",
       "      <th>...</th>\n",
       "      <td>...</td>\n",
       "      <td>...</td>\n",
       "      <td>...</td>\n",
       "      <td>...</td>\n",
       "      <td>...</td>\n",
       "      <td>...</td>\n",
       "      <td>...</td>\n",
       "      <td>...</td>\n",
       "      <td>...</td>\n",
       "      <td>...</td>\n",
       "    </tr>\n",
       "    <tr>\n",
       "      <th>892</th>\n",
       "      <td>Panama</td>\n",
       "      <td>PA</td>\n",
       "      <td></td>\n",
       "      <td></td>\n",
       "      <td></td>\n",
       "      <td>8.54</td>\n",
       "      <td>-80.78</td>\n",
       "      <td>922990</td>\n",
       "      <td>confirmed</td>\n",
       "      <td>2022-07-02 00:00:00+00:00</td>\n",
       "    </tr>\n",
       "    <tr>\n",
       "      <th>893</th>\n",
       "      <td>Panama</td>\n",
       "      <td>PA</td>\n",
       "      <td></td>\n",
       "      <td></td>\n",
       "      <td></td>\n",
       "      <td>8.54</td>\n",
       "      <td>-80.78</td>\n",
       "      <td>925254</td>\n",
       "      <td>confirmed</td>\n",
       "      <td>2022-07-03 00:00:00+00:00</td>\n",
       "    </tr>\n",
       "    <tr>\n",
       "      <th>894</th>\n",
       "      <td>Panama</td>\n",
       "      <td>PA</td>\n",
       "      <td></td>\n",
       "      <td></td>\n",
       "      <td></td>\n",
       "      <td>8.54</td>\n",
       "      <td>-80.78</td>\n",
       "      <td>925254</td>\n",
       "      <td>confirmed</td>\n",
       "      <td>2022-07-04 00:00:00+00:00</td>\n",
       "    </tr>\n",
       "    <tr>\n",
       "      <th>895</th>\n",
       "      <td>Panama</td>\n",
       "      <td>PA</td>\n",
       "      <td></td>\n",
       "      <td></td>\n",
       "      <td></td>\n",
       "      <td>8.54</td>\n",
       "      <td>-80.78</td>\n",
       "      <td>925254</td>\n",
       "      <td>confirmed</td>\n",
       "      <td>2022-07-05 00:00:00+00:00</td>\n",
       "    </tr>\n",
       "    <tr>\n",
       "      <th>896</th>\n",
       "      <td>Panama</td>\n",
       "      <td>PA</td>\n",
       "      <td></td>\n",
       "      <td></td>\n",
       "      <td></td>\n",
       "      <td>8.54</td>\n",
       "      <td>-80.78</td>\n",
       "      <td>925254</td>\n",
       "      <td>confirmed</td>\n",
       "      <td>2022-07-07 00:00:00+00:00</td>\n",
       "    </tr>\n",
       "  </tbody>\n",
       "</table>\n",
       "<p>897 rows × 10 columns</p>\n",
       "</div>"
      ],
      "text/plain": [
       "    Country CountryCode Province City CityCode   Lat    Lon   Cases  \\\n",
       "0    Panama          PA                         8.54 -80.78       0   \n",
       "1    Panama          PA                         8.54 -80.78       0   \n",
       "2    Panama          PA                         8.54 -80.78       0   \n",
       "3    Panama          PA                         8.54 -80.78       0   \n",
       "4    Panama          PA                         8.54 -80.78       0   \n",
       "..      ...         ...      ...  ...      ...   ...    ...     ...   \n",
       "892  Panama          PA                         8.54 -80.78  922990   \n",
       "893  Panama          PA                         8.54 -80.78  925254   \n",
       "894  Panama          PA                         8.54 -80.78  925254   \n",
       "895  Panama          PA                         8.54 -80.78  925254   \n",
       "896  Panama          PA                         8.54 -80.78  925254   \n",
       "\n",
       "        Status                      Date  \n",
       "0    confirmed 2020-01-22 00:00:00+00:00  \n",
       "1    confirmed 2020-01-23 00:00:00+00:00  \n",
       "2    confirmed 2020-01-24 00:00:00+00:00  \n",
       "3    confirmed 2020-01-25 00:00:00+00:00  \n",
       "4    confirmed 2020-01-26 00:00:00+00:00  \n",
       "..         ...                       ...  \n",
       "892  confirmed 2022-07-02 00:00:00+00:00  \n",
       "893  confirmed 2022-07-03 00:00:00+00:00  \n",
       "894  confirmed 2022-07-04 00:00:00+00:00  \n",
       "895  confirmed 2022-07-05 00:00:00+00:00  \n",
       "896  confirmed 2022-07-07 00:00:00+00:00  \n",
       "\n",
       "[897 rows x 10 columns]"
      ]
     },
     "execution_count": 19,
     "metadata": {},
     "output_type": "execute_result"
    }
   ],
   "source": [
    "url_rt_pa = 'https://api.covid19api.com/country/panama/status/confirmed/live'\n",
    "df_rt_pa = pd.read_json(url_rt_pa)\n",
    "df_rt_pa"
   ]
  },
  {
   "cell_type": "code",
   "execution_count": 18,
   "id": "d67ee9eb",
   "metadata": {},
   "outputs": [
    {
     "data": {
      "text/html": [
       "<div>\n",
       "<style scoped>\n",
       "    .dataframe tbody tr th:only-of-type {\n",
       "        vertical-align: middle;\n",
       "    }\n",
       "\n",
       "    .dataframe tbody tr th {\n",
       "        vertical-align: top;\n",
       "    }\n",
       "\n",
       "    .dataframe thead th {\n",
       "        text-align: right;\n",
       "    }\n",
       "</style>\n",
       "<table border=\"1\" class=\"dataframe\">\n",
       "  <thead>\n",
       "    <tr style=\"text-align: right;\">\n",
       "      <th></th>\n",
       "      <th>Country</th>\n",
       "      <th>CountryCode</th>\n",
       "      <th>Province</th>\n",
       "      <th>City</th>\n",
       "      <th>CityCode</th>\n",
       "      <th>Lat</th>\n",
       "      <th>Lon</th>\n",
       "      <th>Cases</th>\n",
       "      <th>Status</th>\n",
       "      <th>Date</th>\n",
       "    </tr>\n",
       "  </thead>\n",
       "  <tbody>\n",
       "    <tr>\n",
       "      <th>891</th>\n",
       "      <td>Spain</td>\n",
       "      <td>ES</td>\n",
       "      <td></td>\n",
       "      <td></td>\n",
       "      <td></td>\n",
       "      <td>40.46</td>\n",
       "      <td>-3.75</td>\n",
       "      <td>12818184</td>\n",
       "      <td>confirmed</td>\n",
       "      <td>2022-07-01 00:00:00+00:00</td>\n",
       "    </tr>\n",
       "    <tr>\n",
       "      <th>892</th>\n",
       "      <td>Spain</td>\n",
       "      <td>ES</td>\n",
       "      <td></td>\n",
       "      <td></td>\n",
       "      <td></td>\n",
       "      <td>40.46</td>\n",
       "      <td>-3.75</td>\n",
       "      <td>12818184</td>\n",
       "      <td>confirmed</td>\n",
       "      <td>2022-07-02 00:00:00+00:00</td>\n",
       "    </tr>\n",
       "    <tr>\n",
       "      <th>893</th>\n",
       "      <td>Spain</td>\n",
       "      <td>ES</td>\n",
       "      <td></td>\n",
       "      <td></td>\n",
       "      <td></td>\n",
       "      <td>40.46</td>\n",
       "      <td>-3.75</td>\n",
       "      <td>12818184</td>\n",
       "      <td>confirmed</td>\n",
       "      <td>2022-07-03 00:00:00+00:00</td>\n",
       "    </tr>\n",
       "    <tr>\n",
       "      <th>894</th>\n",
       "      <td>Spain</td>\n",
       "      <td>ES</td>\n",
       "      <td></td>\n",
       "      <td></td>\n",
       "      <td></td>\n",
       "      <td>40.46</td>\n",
       "      <td>-3.75</td>\n",
       "      <td>12818184</td>\n",
       "      <td>confirmed</td>\n",
       "      <td>2022-07-04 00:00:00+00:00</td>\n",
       "    </tr>\n",
       "    <tr>\n",
       "      <th>895</th>\n",
       "      <td>Spain</td>\n",
       "      <td>ES</td>\n",
       "      <td></td>\n",
       "      <td></td>\n",
       "      <td></td>\n",
       "      <td>40.46</td>\n",
       "      <td>-3.75</td>\n",
       "      <td>12890002</td>\n",
       "      <td>confirmed</td>\n",
       "      <td>2022-07-05 00:00:00+00:00</td>\n",
       "    </tr>\n",
       "  </tbody>\n",
       "</table>\n",
       "</div>"
      ],
      "text/plain": [
       "    Country CountryCode Province City CityCode    Lat   Lon     Cases  \\\n",
       "891   Spain          ES                         40.46 -3.75  12818184   \n",
       "892   Spain          ES                         40.46 -3.75  12818184   \n",
       "893   Spain          ES                         40.46 -3.75  12818184   \n",
       "894   Spain          ES                         40.46 -3.75  12818184   \n",
       "895   Spain          ES                         40.46 -3.75  12890002   \n",
       "\n",
       "        Status                      Date  \n",
       "891  confirmed 2022-07-01 00:00:00+00:00  \n",
       "892  confirmed 2022-07-02 00:00:00+00:00  \n",
       "893  confirmed 2022-07-03 00:00:00+00:00  \n",
       "894  confirmed 2022-07-04 00:00:00+00:00  \n",
       "895  confirmed 2022-07-05 00:00:00+00:00  "
      ]
     },
     "execution_count": 18,
     "metadata": {},
     "output_type": "execute_result"
    }
   ],
   "source": [
    "df_rt_es.tail()"
   ]
  },
  {
   "cell_type": "code",
   "execution_count": 15,
   "id": "49740e03",
   "metadata": {},
   "outputs": [
    {
     "data": {
      "image/png": "[encoded data removed]",
      "text/plain": [
       "<Figure size 432x288 with 1 Axes>"
      ]
     },
     "metadata": {
      "needs_background": "light"
     },
     "output_type": "display_data"
    }
   ],
   "source": [
    "casos_es= df_rt_es.set_index('Date')['Cases'].plot(title=\"Casos de Covid19 en España desde 20/1/2020 hasta 29/6/2022\")"
   ]
  },
  {
   "cell_type": "code",
   "execution_count": 33,
   "id": "4e3a3a46",
   "metadata": {},
   "outputs": [
    {
     "data": {
      "text/plain": [
       "<AxesSubplot:title={'center':'Casos de Covid19 en España'}, xlabel='Date'>"
      ]
     },
     "execution_count": 33,
     "metadata": {},
     "output_type": "execute_result"
    },
    {
     "data": {
      "image/png": "[encoded data removed]",
      "text/plain": [
       "<Figure size 432x288 with 1 Axes>"
      ]
     },
     "metadata": {
      "needs_background": "light"
     },
     "output_type": "display_data"
    }
   ],
   "source": [
    "casos_es= df_rt_es.set_index('Date')['Cases']\n",
    "casos_es.plot(title=\"Casos de Covid19 en España\")"
   ]
  },
  {
   "cell_type": "code",
   "execution_count": 20,
   "id": "070cc0da",
   "metadata": {},
   "outputs": [
    {
     "data": {
      "image/png": "[encoded data removed]",
      "text/plain": [
       "<Figure size 432x288 with 1 Axes>"
      ]
     },
     "metadata": {
      "needs_background": "light"
     },
     "output_type": "display_data"
    }
   ],
   "source": [
    "casos_pa= df_rt_pa.set_index('Date')['Cases'].plot(title=\"Casos de Covid19 en Panamá desde 20/1/2020 hasta 29/6/2022\")"
   ]
  },
  {
   "cell_type": "code",
   "execution_count": 34,
   "id": "a78ac72f",
   "metadata": {},
   "outputs": [
    {
     "data": {
      "text/plain": [
       "<AxesSubplot:title={'center':'Casos de Covid19 en Panamá'}, xlabel='Date'>"
      ]
     },
     "execution_count": 34,
     "metadata": {},
     "output_type": "execute_result"
    },
    {
     "data": {
      "image/png": "[encoded data removed]",
      "text/plain": [
       "<Figure size 432x288 with 1 Axes>"
      ]
     },
     "metadata": {
      "needs_background": "light"
     },
     "output_type": "display_data"
    }
   ],
   "source": [
    "casos_pa= df_rt_pa.set_index('Date')['Cases']\n",
    "casos_pa.plot(title=\"Casos de Covid19 en Panamá\")"
   ]
  },
  {
   "cell_type": "markdown",
   "id": "c239bd5b",
   "metadata": {},
   "source": [
    "## Concatenar los países"
   ]
  },
  {
   "cell_type": "code",
   "execution_count": 36,
   "id": "c486571e",
   "metadata": {},
   "outputs": [
    {
     "data": {
      "text/plain": [
       "Date\n",
       "2020-01-22 00:00:00+00:00           0\n",
       "2020-01-23 00:00:00+00:00           0\n",
       "2020-01-24 00:00:00+00:00           0\n",
       "2020-01-25 00:00:00+00:00           0\n",
       "2020-01-26 00:00:00+00:00           0\n",
       "                               ...   \n",
       "2022-07-01 00:00:00+00:00    12818184\n",
       "2022-07-02 00:00:00+00:00    12818184\n",
       "2022-07-03 00:00:00+00:00    12818184\n",
       "2022-07-04 00:00:00+00:00    12818184\n",
       "2022-07-05 00:00:00+00:00    12890002\n",
       "Name: Cases, Length: 896, dtype: int64"
      ]
     },
     "execution_count": 36,
     "metadata": {},
     "output_type": "execute_result"
    }
   ],
   "source": [
    "casos_es"
   ]
  },
  {
   "cell_type": "code",
   "execution_count": 37,
   "id": "ef368386",
   "metadata": {},
   "outputs": [
    {
     "data": {
      "text/plain": [
       "Date\n",
       "2020-01-22 00:00:00+00:00         0\n",
       "2020-01-23 00:00:00+00:00         0\n",
       "2020-01-24 00:00:00+00:00         0\n",
       "2020-01-25 00:00:00+00:00         0\n",
       "2020-01-26 00:00:00+00:00         0\n",
       "                              ...  \n",
       "2022-07-02 00:00:00+00:00    922990\n",
       "2022-07-03 00:00:00+00:00    925254\n",
       "2022-07-04 00:00:00+00:00    925254\n",
       "2022-07-05 00:00:00+00:00    925254\n",
       "2022-07-07 00:00:00+00:00    925254\n",
       "Name: Cases, Length: 897, dtype: int64"
      ]
     },
     "execution_count": 37,
     "metadata": {},
     "output_type": "execute_result"
    }
   ],
   "source": [
    "casos_pa"
   ]
  },
  {
   "cell_type": "markdown",
   "id": "b46d6528",
   "metadata": {},
   "source": [
    "# España vs Panamá\n",
    "Los objetos dentro de la función serán concatenados en el eje Y."
   ]
  },
  {
   "cell_type": "code",
   "execution_count": 35,
   "id": "3d9f9206",
   "metadata": {},
   "outputs": [
    {
     "data": {
      "text/html": [
       "<div>\n",
       "<style scoped>\n",
       "    .dataframe tbody tr th:only-of-type {\n",
       "        vertical-align: middle;\n",
       "    }\n",
       "\n",
       "    .dataframe tbody tr th {\n",
       "        vertical-align: top;\n",
       "    }\n",
       "\n",
       "    .dataframe thead th {\n",
       "        text-align: right;\n",
       "    }\n",
       "</style>\n",
       "<table border=\"1\" class=\"dataframe\">\n",
       "  <thead>\n",
       "    <tr style=\"text-align: right;\">\n",
       "      <th></th>\n",
       "      <th>Cases</th>\n",
       "      <th>Cases</th>\n",
       "    </tr>\n",
       "    <tr>\n",
       "      <th>Date</th>\n",
       "      <th></th>\n",
       "      <th></th>\n",
       "    </tr>\n",
       "  </thead>\n",
       "  <tbody>\n",
       "    <tr>\n",
       "      <th>2020-01-22 00:00:00+00:00</th>\n",
       "      <td>0.0</td>\n",
       "      <td>0</td>\n",
       "    </tr>\n",
       "    <tr>\n",
       "      <th>2020-01-23 00:00:00+00:00</th>\n",
       "      <td>0.0</td>\n",
       "      <td>0</td>\n",
       "    </tr>\n",
       "    <tr>\n",
       "      <th>2020-01-24 00:00:00+00:00</th>\n",
       "      <td>0.0</td>\n",
       "      <td>0</td>\n",
       "    </tr>\n",
       "    <tr>\n",
       "      <th>2020-01-25 00:00:00+00:00</th>\n",
       "      <td>0.0</td>\n",
       "      <td>0</td>\n",
       "    </tr>\n",
       "    <tr>\n",
       "      <th>2020-01-26 00:00:00+00:00</th>\n",
       "      <td>0.0</td>\n",
       "      <td>0</td>\n",
       "    </tr>\n",
       "    <tr>\n",
       "      <th>...</th>\n",
       "      <td>...</td>\n",
       "      <td>...</td>\n",
       "    </tr>\n",
       "    <tr>\n",
       "      <th>2022-07-02 00:00:00+00:00</th>\n",
       "      <td>12818184.0</td>\n",
       "      <td>922990</td>\n",
       "    </tr>\n",
       "    <tr>\n",
       "      <th>2022-07-03 00:00:00+00:00</th>\n",
       "      <td>12818184.0</td>\n",
       "      <td>925254</td>\n",
       "    </tr>\n",
       "    <tr>\n",
       "      <th>2022-07-04 00:00:00+00:00</th>\n",
       "      <td>12818184.0</td>\n",
       "      <td>925254</td>\n",
       "    </tr>\n",
       "    <tr>\n",
       "      <th>2022-07-05 00:00:00+00:00</th>\n",
       "      <td>12890002.0</td>\n",
       "      <td>925254</td>\n",
       "    </tr>\n",
       "    <tr>\n",
       "      <th>2022-07-07 00:00:00+00:00</th>\n",
       "      <td>NaN</td>\n",
       "      <td>925254</td>\n",
       "    </tr>\n",
       "  </tbody>\n",
       "</table>\n",
       "<p>897 rows × 2 columns</p>\n",
       "</div>"
      ],
      "text/plain": [
       "                                Cases   Cases\n",
       "Date                                         \n",
       "2020-01-22 00:00:00+00:00         0.0       0\n",
       "2020-01-23 00:00:00+00:00         0.0       0\n",
       "2020-01-24 00:00:00+00:00         0.0       0\n",
       "2020-01-25 00:00:00+00:00         0.0       0\n",
       "2020-01-26 00:00:00+00:00         0.0       0\n",
       "...                               ...     ...\n",
       "2022-07-02 00:00:00+00:00  12818184.0  922990\n",
       "2022-07-03 00:00:00+00:00  12818184.0  925254\n",
       "2022-07-04 00:00:00+00:00  12818184.0  925254\n",
       "2022-07-05 00:00:00+00:00  12890002.0  925254\n",
       "2022-07-07 00:00:00+00:00         NaN  925254\n",
       "\n",
       "[897 rows x 2 columns]"
      ]
     },
     "execution_count": 35,
     "metadata": {},
     "output_type": "execute_result"
    }
   ],
   "source": [
    "pd.concat([casos_es,casos_pa], axis=1)"
   ]
  },
  {
   "cell_type": "markdown",
   "id": "efcd495c",
   "metadata": {},
   "source": [
    "#### De igual manera ocurre si utilizamos la siguiente formula pidiendo que se muestren los objetos"
   ]
  },
  {
   "cell_type": "code",
   "execution_count": 38,
   "id": "0e45f7db",
   "metadata": {},
   "outputs": [
    {
     "data": {
      "text/html": [
       "<div>\n",
       "<style scoped>\n",
       "    .dataframe tbody tr th:only-of-type {\n",
       "        vertical-align: middle;\n",
       "    }\n",
       "\n",
       "    .dataframe tbody tr th {\n",
       "        vertical-align: top;\n",
       "    }\n",
       "\n",
       "    .dataframe thead th {\n",
       "        text-align: right;\n",
       "    }\n",
       "</style>\n",
       "<table border=\"1\" class=\"dataframe\">\n",
       "  <thead>\n",
       "    <tr style=\"text-align: right;\">\n",
       "      <th></th>\n",
       "      <th>Cases</th>\n",
       "      <th>Cases</th>\n",
       "    </tr>\n",
       "    <tr>\n",
       "      <th>Date</th>\n",
       "      <th></th>\n",
       "      <th></th>\n",
       "    </tr>\n",
       "  </thead>\n",
       "  <tbody>\n",
       "    <tr>\n",
       "      <th>2020-01-22 00:00:00+00:00</th>\n",
       "      <td>0.0</td>\n",
       "      <td>0</td>\n",
       "    </tr>\n",
       "    <tr>\n",
       "      <th>2020-01-23 00:00:00+00:00</th>\n",
       "      <td>0.0</td>\n",
       "      <td>0</td>\n",
       "    </tr>\n",
       "    <tr>\n",
       "      <th>2020-01-24 00:00:00+00:00</th>\n",
       "      <td>0.0</td>\n",
       "      <td>0</td>\n",
       "    </tr>\n",
       "    <tr>\n",
       "      <th>2020-01-25 00:00:00+00:00</th>\n",
       "      <td>0.0</td>\n",
       "      <td>0</td>\n",
       "    </tr>\n",
       "    <tr>\n",
       "      <th>2020-01-26 00:00:00+00:00</th>\n",
       "      <td>0.0</td>\n",
       "      <td>0</td>\n",
       "    </tr>\n",
       "    <tr>\n",
       "      <th>...</th>\n",
       "      <td>...</td>\n",
       "      <td>...</td>\n",
       "    </tr>\n",
       "    <tr>\n",
       "      <th>2022-07-02 00:00:00+00:00</th>\n",
       "      <td>12818184.0</td>\n",
       "      <td>922990</td>\n",
       "    </tr>\n",
       "    <tr>\n",
       "      <th>2022-07-03 00:00:00+00:00</th>\n",
       "      <td>12818184.0</td>\n",
       "      <td>925254</td>\n",
       "    </tr>\n",
       "    <tr>\n",
       "      <th>2022-07-04 00:00:00+00:00</th>\n",
       "      <td>12818184.0</td>\n",
       "      <td>925254</td>\n",
       "    </tr>\n",
       "    <tr>\n",
       "      <th>2022-07-05 00:00:00+00:00</th>\n",
       "      <td>12890002.0</td>\n",
       "      <td>925254</td>\n",
       "    </tr>\n",
       "    <tr>\n",
       "      <th>2022-07-07 00:00:00+00:00</th>\n",
       "      <td>NaN</td>\n",
       "      <td>925254</td>\n",
       "    </tr>\n",
       "  </tbody>\n",
       "</table>\n",
       "<p>897 rows × 2 columns</p>\n",
       "</div>"
      ],
      "text/plain": [
       "                                Cases   Cases\n",
       "Date                                         \n",
       "2020-01-22 00:00:00+00:00         0.0       0\n",
       "2020-01-23 00:00:00+00:00         0.0       0\n",
       "2020-01-24 00:00:00+00:00         0.0       0\n",
       "2020-01-25 00:00:00+00:00         0.0       0\n",
       "2020-01-26 00:00:00+00:00         0.0       0\n",
       "...                               ...     ...\n",
       "2022-07-02 00:00:00+00:00  12818184.0  922990\n",
       "2022-07-03 00:00:00+00:00  12818184.0  925254\n",
       "2022-07-04 00:00:00+00:00  12818184.0  925254\n",
       "2022-07-05 00:00:00+00:00  12890002.0  925254\n",
       "2022-07-07 00:00:00+00:00         NaN  925254\n",
       "\n",
       "[897 rows x 2 columns]"
      ]
     },
     "execution_count": 38,
     "metadata": {},
     "output_type": "execute_result"
    }
   ],
   "source": [
    "pa_vs_es=pd.concat([casos_es,casos_pa],axis=1)\n",
    "pa_vs_es"
   ]
  },
  {
   "cell_type": "markdown",
   "id": "5fc55bb0",
   "metadata": {},
   "source": [
    "##### Conctenamos ambos países para que nos muestre la gráfica España vs Panamá"
   ]
  },
  {
   "cell_type": "code",
   "execution_count": 43,
   "id": "7f9cd00c",
   "metadata": {},
   "outputs": [
    {
     "data": {
      "text/html": [
       "<div>\n",
       "<style scoped>\n",
       "    .dataframe tbody tr th:only-of-type {\n",
       "        vertical-align: middle;\n",
       "    }\n",
       "\n",
       "    .dataframe tbody tr th {\n",
       "        vertical-align: top;\n",
       "    }\n",
       "\n",
       "    .dataframe thead th {\n",
       "        text-align: right;\n",
       "    }\n",
       "</style>\n",
       "<table border=\"1\" class=\"dataframe\">\n",
       "  <thead>\n",
       "    <tr style=\"text-align: right;\">\n",
       "      <th></th>\n",
       "      <th>España</th>\n",
       "      <th>Panama</th>\n",
       "    </tr>\n",
       "    <tr>\n",
       "      <th>Date</th>\n",
       "      <th></th>\n",
       "      <th></th>\n",
       "    </tr>\n",
       "  </thead>\n",
       "  <tbody>\n",
       "    <tr>\n",
       "      <th>2020-01-22 00:00:00+00:00</th>\n",
       "      <td>0.0</td>\n",
       "      <td>0</td>\n",
       "    </tr>\n",
       "    <tr>\n",
       "      <th>2020-01-23 00:00:00+00:00</th>\n",
       "      <td>0.0</td>\n",
       "      <td>0</td>\n",
       "    </tr>\n",
       "    <tr>\n",
       "      <th>2020-01-24 00:00:00+00:00</th>\n",
       "      <td>0.0</td>\n",
       "      <td>0</td>\n",
       "    </tr>\n",
       "    <tr>\n",
       "      <th>2020-01-25 00:00:00+00:00</th>\n",
       "      <td>0.0</td>\n",
       "      <td>0</td>\n",
       "    </tr>\n",
       "    <tr>\n",
       "      <th>2020-01-26 00:00:00+00:00</th>\n",
       "      <td>0.0</td>\n",
       "      <td>0</td>\n",
       "    </tr>\n",
       "    <tr>\n",
       "      <th>...</th>\n",
       "      <td>...</td>\n",
       "      <td>...</td>\n",
       "    </tr>\n",
       "    <tr>\n",
       "      <th>2022-07-02 00:00:00+00:00</th>\n",
       "      <td>12818184.0</td>\n",
       "      <td>922990</td>\n",
       "    </tr>\n",
       "    <tr>\n",
       "      <th>2022-07-03 00:00:00+00:00</th>\n",
       "      <td>12818184.0</td>\n",
       "      <td>925254</td>\n",
       "    </tr>\n",
       "    <tr>\n",
       "      <th>2022-07-04 00:00:00+00:00</th>\n",
       "      <td>12818184.0</td>\n",
       "      <td>925254</td>\n",
       "    </tr>\n",
       "    <tr>\n",
       "      <th>2022-07-05 00:00:00+00:00</th>\n",
       "      <td>12890002.0</td>\n",
       "      <td>925254</td>\n",
       "    </tr>\n",
       "    <tr>\n",
       "      <th>2022-07-07 00:00:00+00:00</th>\n",
       "      <td>NaN</td>\n",
       "      <td>925254</td>\n",
       "    </tr>\n",
       "  </tbody>\n",
       "</table>\n",
       "<p>897 rows × 2 columns</p>\n",
       "</div>"
      ],
      "text/plain": [
       "                               España  Panama\n",
       "Date                                         \n",
       "2020-01-22 00:00:00+00:00         0.0       0\n",
       "2020-01-23 00:00:00+00:00         0.0       0\n",
       "2020-01-24 00:00:00+00:00         0.0       0\n",
       "2020-01-25 00:00:00+00:00         0.0       0\n",
       "2020-01-26 00:00:00+00:00         0.0       0\n",
       "...                               ...     ...\n",
       "2022-07-02 00:00:00+00:00  12818184.0  922990\n",
       "2022-07-03 00:00:00+00:00  12818184.0  925254\n",
       "2022-07-04 00:00:00+00:00  12818184.0  925254\n",
       "2022-07-05 00:00:00+00:00  12890002.0  925254\n",
       "2022-07-07 00:00:00+00:00         NaN  925254\n",
       "\n",
       "[897 rows x 2 columns]"
      ]
     },
     "execution_count": 43,
     "metadata": {},
     "output_type": "execute_result"
    }
   ],
   "source": [
    "pa_vs_es.columns=['España','Panama']\n",
    "pa_vs_es"
   ]
  },
  {
   "cell_type": "markdown",
   "id": "7b36de77",
   "metadata": {},
   "source": [
    "Vamos a mostrar una gráfica comparativa del COVID-19 entre España y Panamá"
   ]
  },
  {
   "cell_type": "code",
   "execution_count": 44,
   "id": "6e02e133",
   "metadata": {},
   "outputs": [
    {
     "data": {
      "text/plain": [
       "<AxesSubplot:title={'center':'Comparativa del COVID/19 España vs Panamá'}, xlabel='Date'>"
      ]
     },
     "execution_count": 44,
     "metadata": {},
     "output_type": "execute_result"
    },
    {
     "data": {
      "image/png": "[encoded data removed]",
      "text/plain": [
       "<Figure size 432x288 with 1 Axes>"
      ]
     },
     "metadata": {
      "needs_background": "light"
     },
     "output_type": "display_data"
    }
   ],
   "source": [
    "pa_vs_es.plot(title=\"Comparativa del COVID/19 España vs Panamá\")"
   ]
  },
  {
   "cell_type": "markdown",
   "id": "c46764a7",
   "metadata": {},
   "source": [
    "## Ahora haremos lo mismo con los datos de Costa Rica, El Salvador, Honduras, Nicaragua y Guatemala"
   ]
  },
  {
   "cell_type": "markdown",
   "id": "108d9846",
   "metadata": {},
   "source": [
    "### Iniciamos la comparativa entre Panama y Costa ica "
   ]
  },
  {
   "cell_type": "code",
   "execution_count": 45,
   "id": "50067ab8",
   "metadata": {},
   "outputs": [],
   "source": [
    "url_rt_cr = 'https://api.covid19api.com/country/costa-rica/status/confirmed/live'\n",
    "df_rt_cr = pd.read_json(url_rt_cr)\n",
    "df_rt_cr\n",
    "casos_cr= df_rt_cr.set_index('Date')['Cases']"
   ]
  },
  {
   "cell_type": "code",
   "execution_count": 54,
   "id": "4909f298",
   "metadata": {},
   "outputs": [
    {
     "data": {
      "text/plain": [
       "<AxesSubplot:title={'center':'Comparativa del COVID/19 Costa Rica vs Panamá'}, xlabel='Date'>"
      ]
     },
     "execution_count": 54,
     "metadata": {},
     "output_type": "execute_result"
    },
    {
     "data": {
      "image/png": "[encoded data removed]",
      "text/plain": [
       "<Figure size 432x288 with 1 Axes>"
      ]
     },
     "metadata": {
      "needs_background": "light"
     },
     "output_type": "display_data"
    }
   ],
   "source": [
    "pa_vs_cr= pd.concat([casos_cr,casos_pa],axis=1)\n",
    "pa_vs_cr.columns = ['Costa Rica','Panamá']\n",
    "pa_vs_cr.plot(title=\"Comparativa del COVID/19 Costa Rica vs Panamá\")"
   ]
  },
  {
   "cell_type": "markdown",
   "id": "bfc90de2",
   "metadata": {},
   "source": [
    "### Continuamos comparando los numeros de Panama en esta ocacion con Honduras"
   ]
  },
  {
   "cell_type": "code",
   "execution_count": 55,
   "id": "7512d773",
   "metadata": {},
   "outputs": [],
   "source": [
    "url_rt_hn = 'https://api.covid19api.com/country/honduras/status/confirmed/live'\n",
    "df_rt_hn = pd.read_json(url_rt_hn)\n",
    "df_rt_hn\n",
    "casos_hn = df_rt_hn.set_index('Date')['Cases']"
   ]
  },
  {
   "cell_type": "code",
   "execution_count": 56,
   "id": "7115e6b6",
   "metadata": {},
   "outputs": [
    {
     "data": {
      "text/plain": [
       "<AxesSubplot:title={'center':'Comparativa del COVID/19 Honduras vs Panamá'}, xlabel='Date'>"
      ]
     },
     "execution_count": 56,
     "metadata": {},
     "output_type": "execute_result"
    },
    {
     "data": {
      "image/png": "[encoded data removed]",
      "text/plain": [
       "<Figure size 432x288 with 1 Axes>"
      ]
     },
     "metadata": {
      "needs_background": "light"
     },
     "output_type": "display_data"
    }
   ],
   "source": [
    "pa_vs_hn = pd.concat([casos_hn,casos_pa],axis=1)\n",
    "pa_vs_hn.columns = ['Honduras','Panamá']\n",
    "pa_vs_hn.plot(title=\"Comparativa del COVID/19 Honduras vs Panamá\")"
   ]
  },
  {
   "cell_type": "markdown",
   "id": "84ad87a6",
   "metadata": {},
   "source": [
    "### Ahora haremos la comparativa con El Salvador "
   ]
  },
  {
   "cell_type": "code",
   "execution_count": 57,
   "id": "3a0861ea",
   "metadata": {},
   "outputs": [],
   "source": [
    "url_rt_sv = 'https://api.covid19api.com/country/El-Salvador/status/confirmed/live'\n",
    "df_rt_sv = pd.read_json(url_rt_sv)\n",
    "df_rt_sv\n",
    "casos_sv = df_rt_sv.set_index('Date')['Cases']"
   ]
  },
  {
   "cell_type": "code",
   "execution_count": 58,
   "id": "f376f8f5",
   "metadata": {},
   "outputs": [
    {
     "data": {
      "text/plain": [
       "<AxesSubplot:title={'center':'Comparativa del COVID/19 El Salvador vs Panamá'}, xlabel='Date'>"
      ]
     },
     "execution_count": 58,
     "metadata": {},
     "output_type": "execute_result"
    },
    {
     "data": {
      "image/png": "[encoded data removed]",
      "text/plain": [
       "<Figure size 432x288 with 1 Axes>"
      ]
     },
     "metadata": {
      "needs_background": "light"
     },
     "output_type": "display_data"
    }
   ],
   "source": [
    "pa_vs_sv = pd.concat([casos_sv,casos_pa],axis=1)\n",
    "pa_vs_sv.columns = ['El Salvador','Panamá']\n",
    "pa_vs_sv.plot(title=\"Comparativa del COVID/19 El Salvador vs Panamá\")"
   ]
  },
  {
   "cell_type": "markdown",
   "id": "a136b9c9",
   "metadata": {},
   "source": [
    "### Vamos a hacer la comparacion entre Guatemala y Panama"
   ]
  },
  {
   "cell_type": "code",
   "execution_count": 59,
   "id": "aedf6326",
   "metadata": {},
   "outputs": [],
   "source": [
    "url_rt_gt = 'https://api.covid19api.com/country/Guatemala/status/confirmed/live'\n",
    "df_rt_gt = pd.read_json(url_rt_gt)\n",
    "df_rt_gt\n",
    "casos_gt = df_rt_gt.set_index('Date')['Cases']"
   ]
  },
  {
   "cell_type": "code",
   "execution_count": 60,
   "id": "ae66d14b",
   "metadata": {},
   "outputs": [
    {
     "data": {
      "text/plain": [
       "<AxesSubplot:title={'center':'Comparativa del COVID/19 Guatemala vs Panamá'}, xlabel='Date'>"
      ]
     },
     "execution_count": 60,
     "metadata": {},
     "output_type": "execute_result"
    },
    {
     "data": {
      "image/png": "[encoded data removed]",
      "text/plain": [
       "<Figure size 432x288 with 1 Axes>"
      ]
     },
     "metadata": {
      "needs_background": "light"
     },
     "output_type": "display_data"
    }
   ],
   "source": [
    "pa_vs_gt = pd.concat([casos_gt,casos_pa],axis=1)\n",
    "pa_vs_gt.columns = ['Guatemala','Panamá']\n",
    "pa_vs_gt.plot(title=\"Comparativa del COVID/19 Guatemala vs Panamá\")"
   ]
  },
  {
   "cell_type": "markdown",
   "id": "ba9b0738",
   "metadata": {},
   "source": [
    "### Haremos la comparativa entre Nicaragua y Panama"
   ]
  },
  {
   "cell_type": "code",
   "execution_count": 61,
   "id": "1998cc76",
   "metadata": {},
   "outputs": [],
   "source": [
    "url_rt_ni = 'https://api.covid19api.com/country/Nicaragua/status/confirmed/live'\n",
    "df_rt_ni = pd.read_json(url_rt_ni)\n",
    "df_rt_ni\n",
    "casos_ni = df_rt_ni.set_index('Date')['Cases']"
   ]
  },
  {
   "cell_type": "code",
   "execution_count": 62,
   "id": "c4106b45",
   "metadata": {},
   "outputs": [
    {
     "data": {
      "text/plain": [
       "<AxesSubplot:title={'center':'Comparativa del COVID/19 Nicaragua vs Panamá'}, xlabel='Date'>"
      ]
     },
     "execution_count": 62,
     "metadata": {},
     "output_type": "execute_result"
    },
    {
     "data": {
      "image/png": "[encoded data removed]",
      "text/plain": [
       "<Figure size 432x288 with 1 Axes>"
      ]
     },
     "metadata": {
      "needs_background": "light"
     },
     "output_type": "display_data"
    }
   ],
   "source": [
    "pa_vs_ni = pd.concat([casos_ni,casos_pa],axis=1)\n",
    "pa_vs_ni.columns = ['Nicaragua','Panamá']\n",
    "pa_vs_ni.plot(title=\"Comparativa del COVID/19 Nicaragua vs Panamá\")"
   ]
  },
  {
   "cell_type": "markdown",
   "id": "17f6b226",
   "metadata": {},
   "source": [
    "## Por ultimo haremos una comparativa de los paises centroamericanos"
   ]
  },
  {
   "cell_type": "code",
   "execution_count": 70,
   "id": "ab997a2b",
   "metadata": {},
   "outputs": [],
   "source": [
    "url_rt_ni = 'https://api.covid19api.com/country/Nicaragua/status/confirmed/live'\n",
    "df_rt_ni = pd.read_json(url_rt_ni)\n",
    "df_rt_ni\n",
    "casos_ni = df_rt_ni.set_index('Date')['Cases']\n",
    "url_rt_gt = 'https://api.covid19api.com/country/Guatemala/status/confirmed/live'\n",
    "df_rt_gt = pd.read_json(url_rt_gt)\n",
    "df_rt_gt\n",
    "casos_gt = df_rt_gt.set_index('Date')['Cases']\n",
    "url_rt_sv = 'https://api.covid19api.com/country/El-Salvador/status/confirmed/live'\n",
    "df_rt_sv = pd.read_json(url_rt_sv)\n",
    "df_rt_sv\n",
    "casos_sv = df_rt_sv.set_index('Date')['Cases']\n",
    "url_rt_cr = 'https://api.covid19api.com/country/costa-rica/status/confirmed/live'\n",
    "df_rt_cr = pd.read_json(url_rt_cr)\n",
    "df_rt_cr\n",
    "casos_cr= df_rt_cr.set_index('Date')['Cases']\n",
    "url_rt_hn = 'https://api.covid19api.com/country/honduras/status/confirmed/live'\n",
    "df_rt_hn = pd.read_json(url_rt_hn)\n",
    "df_rt_hn\n",
    "casos_hn = df_rt_hn.set_index('Date')['Cases']"
   ]
  },
  {
   "cell_type": "code",
   "execution_count": 72,
   "id": "a6067c85",
   "metadata": {},
   "outputs": [
    {
     "ename": "ValueError",
     "evalue": "Length mismatch: Expected axis has 2 elements, new values have 5 elements",
     "output_type": "error",
     "traceback": [
      "\u001b[1;31m---------------------------------------------------------------------------\u001b[0m",
      "\u001b[1;31mValueError\u001b[0m                                Traceback (most recent call last)",
      "Input \u001b[1;32mIn [72]\u001b[0m, in \u001b[0;36m<cell line: 2>\u001b[1;34m()\u001b[0m\n\u001b[0;32m      1\u001b[0m pa_vs_cr_vs_ni_vs_hn_vs_sv_vs_gt \u001b[38;5;241m=\u001b[39m pd\u001b[38;5;241m.\u001b[39mconcat([casos_ni,casos_pa, casos_cr,casos_gt,casos_sv,casos_hn],axis\u001b[38;5;241m=\u001b[39m\u001b[38;5;241m1\u001b[39m)\n\u001b[1;32m----> 2\u001b[0m pa_vs_ni\u001b[38;5;241m.\u001b[39mcolumns \u001b[38;5;241m=\u001b[39m [\u001b[38;5;124m'\u001b[39m\u001b[38;5;124mNicaragua\u001b[39m\u001b[38;5;124m'\u001b[39m,\u001b[38;5;124m'\u001b[39m\u001b[38;5;124mCosta Rica\u001b[39m\u001b[38;5;124m'\u001b[39m,\u001b[38;5;124m'\u001b[39m\u001b[38;5;124mHonduras\u001b[39m\u001b[38;5;124m'\u001b[39m,\u001b[38;5;124m'\u001b[39m\u001b[38;5;124mGuatemala\u001b[39m\u001b[38;5;124m'\u001b[39m,\u001b[38;5;124m'\u001b[39m\u001b[38;5;124mEl Salvador\u001b[39m\u001b[38;5;124m'\u001b[39m\u001b[38;5;124m'\u001b[39m\u001b[38;5;124mPanamá\u001b[39m\u001b[38;5;124m'\u001b[39m]\n\u001b[0;32m      3\u001b[0m pa_vs_cr_vs_ni_vs_hn_vs_sv_vs_gt\u001b[38;5;241m.\u001b[39mplot(title\u001b[38;5;241m=\u001b[39m\u001b[38;5;124m\"\u001b[39m\u001b[38;5;124mComparativa del COVID/19 Centroamerica\u001b[39m\u001b[38;5;124m\"\u001b[39m)\n",
      "File \u001b[1;32m~\\anaconda3\\lib\\site-packages\\pandas\\core\\generic.py:5588\u001b[0m, in \u001b[0;36mNDFrame.__setattr__\u001b[1;34m(self, name, value)\u001b[0m\n\u001b[0;32m   5586\u001b[0m \u001b[38;5;28;01mtry\u001b[39;00m:\n\u001b[0;32m   5587\u001b[0m     \u001b[38;5;28mobject\u001b[39m\u001b[38;5;241m.\u001b[39m\u001b[38;5;21m__getattribute__\u001b[39m(\u001b[38;5;28mself\u001b[39m, name)\n\u001b[1;32m-> 5588\u001b[0m     \u001b[38;5;28;01mreturn\u001b[39;00m \u001b[38;5;28;43mobject\u001b[39;49m\u001b[38;5;241;43m.\u001b[39;49m\u001b[38;5;21;43m__setattr__\u001b[39;49m\u001b[43m(\u001b[49m\u001b[38;5;28;43mself\u001b[39;49m\u001b[43m,\u001b[49m\u001b[43m \u001b[49m\u001b[43mname\u001b[49m\u001b[43m,\u001b[49m\u001b[43m \u001b[49m\u001b[43mvalue\u001b[49m\u001b[43m)\u001b[49m\n\u001b[0;32m   5589\u001b[0m \u001b[38;5;28;01mexcept\u001b[39;00m \u001b[38;5;167;01mAttributeError\u001b[39;00m:\n\u001b[0;32m   5590\u001b[0m     \u001b[38;5;28;01mpass\u001b[39;00m\n",
      "File \u001b[1;32m~\\anaconda3\\lib\\site-packages\\pandas\\_libs\\properties.pyx:70\u001b[0m, in \u001b[0;36mpandas._libs.properties.AxisProperty.__set__\u001b[1;34m()\u001b[0m\n",
      "File \u001b[1;32m~\\anaconda3\\lib\\site-packages\\pandas\\core\\generic.py:769\u001b[0m, in \u001b[0;36mNDFrame._set_axis\u001b[1;34m(self, axis, labels)\u001b[0m\n\u001b[0;32m    767\u001b[0m \u001b[38;5;28;01mdef\u001b[39;00m \u001b[38;5;21m_set_axis\u001b[39m(\u001b[38;5;28mself\u001b[39m, axis: \u001b[38;5;28mint\u001b[39m, labels: Index) \u001b[38;5;241m-\u001b[39m\u001b[38;5;241m>\u001b[39m \u001b[38;5;28;01mNone\u001b[39;00m:\n\u001b[0;32m    768\u001b[0m     labels \u001b[38;5;241m=\u001b[39m ensure_index(labels)\n\u001b[1;32m--> 769\u001b[0m     \u001b[38;5;28;43mself\u001b[39;49m\u001b[38;5;241;43m.\u001b[39;49m\u001b[43m_mgr\u001b[49m\u001b[38;5;241;43m.\u001b[39;49m\u001b[43mset_axis\u001b[49m\u001b[43m(\u001b[49m\u001b[43maxis\u001b[49m\u001b[43m,\u001b[49m\u001b[43m \u001b[49m\u001b[43mlabels\u001b[49m\u001b[43m)\u001b[49m\n\u001b[0;32m    770\u001b[0m     \u001b[38;5;28mself\u001b[39m\u001b[38;5;241m.\u001b[39m_clear_item_cache()\n",
      "File \u001b[1;32m~\\anaconda3\\lib\\site-packages\\pandas\\core\\internals\\managers.py:214\u001b[0m, in \u001b[0;36mBaseBlockManager.set_axis\u001b[1;34m(self, axis, new_labels)\u001b[0m\n\u001b[0;32m    212\u001b[0m \u001b[38;5;28;01mdef\u001b[39;00m \u001b[38;5;21mset_axis\u001b[39m(\u001b[38;5;28mself\u001b[39m, axis: \u001b[38;5;28mint\u001b[39m, new_labels: Index) \u001b[38;5;241m-\u001b[39m\u001b[38;5;241m>\u001b[39m \u001b[38;5;28;01mNone\u001b[39;00m:\n\u001b[0;32m    213\u001b[0m     \u001b[38;5;66;03m# Caller is responsible for ensuring we have an Index object.\u001b[39;00m\n\u001b[1;32m--> 214\u001b[0m     \u001b[38;5;28;43mself\u001b[39;49m\u001b[38;5;241;43m.\u001b[39;49m\u001b[43m_validate_set_axis\u001b[49m\u001b[43m(\u001b[49m\u001b[43maxis\u001b[49m\u001b[43m,\u001b[49m\u001b[43m \u001b[49m\u001b[43mnew_labels\u001b[49m\u001b[43m)\u001b[49m\n\u001b[0;32m    215\u001b[0m     \u001b[38;5;28mself\u001b[39m\u001b[38;5;241m.\u001b[39maxes[axis] \u001b[38;5;241m=\u001b[39m new_labels\n",
      "File \u001b[1;32m~\\anaconda3\\lib\\site-packages\\pandas\\core\\internals\\base.py:69\u001b[0m, in \u001b[0;36mDataManager._validate_set_axis\u001b[1;34m(self, axis, new_labels)\u001b[0m\n\u001b[0;32m     66\u001b[0m     \u001b[38;5;28;01mpass\u001b[39;00m\n\u001b[0;32m     68\u001b[0m \u001b[38;5;28;01melif\u001b[39;00m new_len \u001b[38;5;241m!=\u001b[39m old_len:\n\u001b[1;32m---> 69\u001b[0m     \u001b[38;5;28;01mraise\u001b[39;00m \u001b[38;5;167;01mValueError\u001b[39;00m(\n\u001b[0;32m     70\u001b[0m         \u001b[38;5;124mf\u001b[39m\u001b[38;5;124m\"\u001b[39m\u001b[38;5;124mLength mismatch: Expected axis has \u001b[39m\u001b[38;5;132;01m{\u001b[39;00mold_len\u001b[38;5;132;01m}\u001b[39;00m\u001b[38;5;124m elements, new \u001b[39m\u001b[38;5;124m\"\u001b[39m\n\u001b[0;32m     71\u001b[0m         \u001b[38;5;124mf\u001b[39m\u001b[38;5;124m\"\u001b[39m\u001b[38;5;124mvalues have \u001b[39m\u001b[38;5;132;01m{\u001b[39;00mnew_len\u001b[38;5;132;01m}\u001b[39;00m\u001b[38;5;124m elements\u001b[39m\u001b[38;5;124m\"\u001b[39m\n\u001b[0;32m     72\u001b[0m     )\n",
      "\u001b[1;31mValueError\u001b[0m: Length mismatch: Expected axis has 2 elements, new values have 5 elements"
     ]
    }
   ],
   "source": [
    "pa_vs_cr_vs_ni_vs_hn_vs_sv_vs_gt = pd.concat([casos_ni,casos_pa, casos_cr,casos_gt,casos_sv,casos_hn],axis=1)\n",
    "pa_vs_ni.columns = ['Nicaragua','Costa Rica','Honduras','Guatemala','El Salvador''Panamá']\n",
    "pa_vs_cr_vs_ni_vs_hn_vs_sv_vs_gt.plot(title=\"Comparativa del COVID/19 Centroamerica\")"
   ]
  },
  {
   "cell_type": "code",
   "execution_count": null,
   "id": "ae41aea7",
   "metadata": {},
   "outputs": [],
   "source": []
  }
 ],
 "metadata": {
  "kernelspec": {
   "display_name": "Python 3 (ipykernel)",
   "language": "python",
   "name": "python3"
  },
  "language_info": {
   "codemirror_mode": {
    "name": "ipython",
    "version": 3
   },
   "file_extension": ".py",
   "mimetype": "text/x-python",
   "name": "python",
   "nbconvert_exporter": "python",
   "pygments_lexer": "ipython3",
   "version": "3.9.12"
  }
 },
 "nbformat": 4,
 "nbformat_minor": 5
}
